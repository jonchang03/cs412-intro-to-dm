{
 "cells": [
  {
   "cell_type": "markdown",
   "metadata": {},
   "source": [
    "## Input\n",
    "The provided input file (\"categories.txt\") consists of the category lists of 77,185 places in the US. Each line corresponds to the category list of one place, where the list consists of a number of category instances (e.g., hotels, restaurants, etc.) that are separated by semicolons.\n",
    "\n",
    "An example line is provided below:\n",
    "\n",
    "Local Services;IT Services & Computer Repair\n",
    "\n",
    "In the example above, the corresponding place has two category instances: \"Local Services\" and \"IT Services & Computer Repair\".\n",
    "\n",
    "## Output\n",
    "You need to implement the Apriori algorithm and use it to mine category sets that are frequent in the input data. When implementing the Apriori algorithm, you may use any programming language you like. We only need your result pattern file, not your source code file.\n",
    "\n",
    "After implementing the Apriori algorithm, please set the relative minimum support to 0.01 and run it on the 77,185 category lists. In other words, you need to extract all the category sets that have an absolute support larger than 771."
   ]
  },
  {
   "cell_type": "markdown",
   "metadata": {},
   "source": [
    "### Psuedocode for Apriori\n",
    "Step 1. find frequent 1-itemsets  \n",
    "Steps 2-10. L_k-1 is used to generate candidates C_k to find L_k for K >=2  \n",
    "Step 3. generates the candidates and then uses Apriori properety to eliminate those having a subset that is not frequent  \n",
    "Step 4. scan the database for counts  \n",
    "Step 5. For each transaction, a subset function used to find all subsets of the transactions that are candidates  \n",
    "Steps 6-7. Count for each of these candidates is acculated  \n",
    "Steps 9-11. All candidates satisfying minimum support form the frequent itemsets, L  "
   ]
  },
  {
   "cell_type": "code",
   "execution_count": 1,
   "metadata": {
    "collapsed": false
   },
   "outputs": [],
   "source": [
    "from collections import Counter"
   ]
  },
  {
   "cell_type": "markdown",
   "metadata": {},
   "source": [
    "### Read in data"
   ]
  },
  {
   "cell_type": "code",
   "execution_count": 2,
   "metadata": {
    "collapsed": false
   },
   "outputs": [],
   "source": [
    "# read \"categories.txt\" into list of lists\n",
    "# https://stackoverflow.com/questions/18448847/import-txt-file-and-having-each-line-as-a-list\n",
    "transactions = []\n",
    "with open('categories.txt', 'rt') as f:\n",
    "    for line in f:\n",
    "        transactions.append(line.strip().split(';'))\n",
    "# print(type(transactions))\n",
    "# transactions"
   ]
  },
  {
   "cell_type": "code",
   "execution_count": null,
   "metadata": {
    "collapsed": true
   },
   "outputs": [],
   "source": []
  },
  {
   "cell_type": "code",
   "execution_count": null,
   "metadata": {
    "collapsed": true
   },
   "outputs": [],
   "source": []
  },
  {
   "cell_type": "markdown",
   "metadata": {},
   "source": [
    "### Apriori\n",
    "Credit: https://gist.github.com/Stiivi/4730288"
   ]
  },
  {
   "cell_type": "code",
   "execution_count": 3,
   "metadata": {
    "collapsed": false
   },
   "outputs": [],
   "source": [
    "def distinct_items(transactions, support=None):\n",
    "    \"\"\"Returns counted set of distinct items in transactions\"\"\"\n",
    "    counter = Counter()\n",
    "    for trans in transactions:\n",
    "        counter.update(trans)\n",
    "\n",
    "    if support is not None:\n",
    "        return set(item for item in counter if counter[item] >= support)\n",
    "    else:\n",
    "        return set(counter)\n",
    "    \n",
    "def frequent_single_itemsets(transactions, support):\n",
    "    \"\"\"Return one-item itemsets with at least `support` support.\"\"\"\n",
    "    distinct = distinct_items(transactions, support)\n",
    "    return set(frozenset([i]) for i in distinct)\n",
    "\n",
    "def itemsets_support(transactions, itemsets):\n",
    "    \"\"\"Get support for `itemsets`\"\"\"\n",
    "\n",
    "    support_set = Counter()\n",
    "\n",
    "    for trans in transactions:\n",
    "        subsets = [itemset for itemset in itemsets if itemset <= set(trans)] # transactions as lists of lists\n",
    "        support_set.update(subsets)\n",
    "\n",
    "    return support_set"
   ]
  },
  {
   "cell_type": "code",
   "execution_count": 4,
   "metadata": {
    "collapsed": true
   },
   "outputs": [],
   "source": [
    "def apriori_gen(L, k):\n",
    "    \"\"\"Generate candidate set from `L` with size `k`\"\"\"\n",
    "    candidates = set()\n",
    "    for l1 in L:\n",
    "        for l2 in L:\n",
    "            unionset = l1 | l2\n",
    "            if len(unionset) == k and l1 != l2:\n",
    "                candidates.add(unionset)\n",
    "    return candidates"
   ]
  },
  {
   "cell_type": "code",
   "execution_count": 5,
   "metadata": {
    "collapsed": true
   },
   "outputs": [],
   "source": [
    "def apriori_prune(counter, support):\n",
    "    \"\"\"Return sets with minimal `support`\"\"\"\n",
    "    items = [item for item in counter if counter[item] >= support]\n",
    "    return set(items)"
   ]
  },
  {
   "cell_type": "code",
   "execution_count": null,
   "metadata": {
    "collapsed": true
   },
   "outputs": [],
   "source": []
  },
  {
   "cell_type": "markdown",
   "metadata": {
    "collapsed": true
   },
   "source": [
    "### Run Main Procedure"
   ]
  },
  {
   "cell_type": "code",
   "execution_count": 6,
   "metadata": {
    "collapsed": false
   },
   "outputs": [
    {
     "name": "stdout",
     "output_type": "stream",
     "text": [
      "CPU times: user 40.5 s, sys: 117 ms, total: 40.6 s\n",
      "Wall time: 40.8 s\n"
     ]
    }
   ],
   "source": [
    "%%time\n",
    "min_support = 771\n",
    "candidates = frequent_single_itemsets(transactions, min_support)\n",
    "result = list(candidates) # L begins with frequent-1 itemsets!!!\n",
    "\n",
    "k = 2\n",
    "while(candidates):\n",
    "    candidates = apriori_gen(candidates, k) # generate candidates\n",
    "    supports = itemsets_support(transactions, candidates) # get supports of candidates\n",
    "    candidates = apriori_prune(supports, min_support) # prune unfruitful candidates\n",
    "    result += candidates # add qualifying candidates to the frequent itemsets\n",
    "    k = k + 1"
   ]
  },
  {
   "cell_type": "code",
   "execution_count": null,
   "metadata": {
    "collapsed": true
   },
   "outputs": [],
   "source": []
  },
  {
   "cell_type": "code",
   "execution_count": null,
   "metadata": {
    "collapsed": true
   },
   "outputs": [],
   "source": []
  },
  {
   "cell_type": "code",
   "execution_count": null,
   "metadata": {
    "collapsed": true
   },
   "outputs": [],
   "source": []
  },
  {
   "cell_type": "markdown",
   "metadata": {},
   "source": [
    "# Part 1\n",
    "\n",
    "Please output all the length-1 frequent categories with their absolute supports into a text file named \"patterns.txt\". Every line corresponds to exactly one frequent category and should be in the following format:\n",
    "\n",
    "support:category\n",
    "\n",
    "For example, suppose a category (Fast Food) has an absolute support 3000, then the line corresponding to this frequent category set in \"patterns.txt\" should be:\n",
    "\n",
    "3000:Fast Food"
   ]
  },
  {
   "cell_type": "code",
   "execution_count": 7,
   "metadata": {
    "collapsed": false
   },
   "outputs": [
    {
     "name": "stdout",
     "output_type": "stream",
     "text": [
      "CPU times: user 2.02 s, sys: 6.34 ms, total: 2.03 s\n",
      "Wall time: 2.03 s\n"
     ]
    }
   ],
   "source": [
    "%%time\n",
    "distinct = frequent_single_itemsets(transactions, min_support)\n",
    "frequent_1_itemsets = itemsets_support(transactions, distinct)"
   ]
  },
  {
   "cell_type": "code",
   "execution_count": 8,
   "metadata": {
    "collapsed": false
   },
   "outputs": [
    {
     "data": {
      "text/plain": [
       "Counter({frozenset({'Burgers'}): 1774,\n",
       "         frozenset({'Sandwiches'}): 2364,\n",
       "         frozenset({'Pets'}): 1497,\n",
       "         frozenset({'Auto Repair'}): 1716,\n",
       "         frozenset({'Mexican'}): 2515,\n",
       "         frozenset({'Pizza'}): 2657,\n",
       "         frozenset({'Food'}): 9250,\n",
       "         frozenset({'Nightlife'}): 5088,\n",
       "         frozenset({'Beauty & Spas'}): 6583,\n",
       "         frozenset({'Sushi Bars'}): 798,\n",
       "         frozenset({\"Women's Clothing\"}): 1138,\n",
       "         frozenset({'Bars'}): 4328,\n",
       "         frozenset({'Health & Medical'}): 5121,\n",
       "         frozenset({'Automotive'}): 4208,\n",
       "         frozenset({'Ice Cream & Frozen Yogurt'}): 1018,\n",
       "         frozenset({'Restaurants'}): 25071,\n",
       "         frozenset({'Dentists'}): 1195,\n",
       "         frozenset({'Nail Salons'}): 1667,\n",
       "         frozenset({'Chinese'}): 1629,\n",
       "         frozenset({'Home Services'}): 4785,\n",
       "         frozenset({'Cafes'}): 1002,\n",
       "         frozenset({'Hotels'}): 1431,\n",
       "         frozenset({'Coffee & Tea'}): 2199,\n",
       "         frozenset({'Pet Services'}): 870,\n",
       "         frozenset({'Doctors'}): 1694,\n",
       "         frozenset({'Specialty Food'}): 1150,\n",
       "         frozenset({'Home & Garden'}): 1586,\n",
       "         frozenset({'Fitness & Instruction'}): 1442,\n",
       "         frozenset({'Fast Food'}): 2851,\n",
       "         frozenset({'Financial Services'}): 875,\n",
       "         frozenset({'Hair Salons'}): 2091,\n",
       "         frozenset({'Breakfast & Brunch'}): 1369,\n",
       "         frozenset({'Grocery'}): 1424,\n",
       "         frozenset({'Real Estate'}): 1424,\n",
       "         frozenset({'American (Traditional)'}): 2416,\n",
       "         frozenset({'Italian'}): 1848,\n",
       "         frozenset({'Professional Services'}): 1025,\n",
       "         frozenset({'Hotels & Travel'}): 2495,\n",
       "         frozenset({'Pubs'}): 874,\n",
       "         frozenset({'Shopping'}): 11233,\n",
       "         frozenset({'Fashion'}): 3078,\n",
       "         frozenset({'Sports Bars'}): 818,\n",
       "         frozenset({'American (New)'}): 1593,\n",
       "         frozenset({'Event Planning & Services'}): 2975,\n",
       "         frozenset({'Japanese'}): 848,\n",
       "         frozenset({'Bakeries'}): 1115,\n",
       "         frozenset({'Arts & Entertainment'}): 2271,\n",
       "         frozenset({'General Dentistry'}): 823,\n",
       "         frozenset({'Local Services'}): 3468,\n",
       "         frozenset({'Active Life'}): 3103})"
      ]
     },
     "execution_count": 8,
     "metadata": {},
     "output_type": "execute_result"
    }
   ],
   "source": [
    "frequent_1_itemsets"
   ]
  },
  {
   "cell_type": "code",
   "execution_count": 9,
   "metadata": {
    "collapsed": false
   },
   "outputs": [],
   "source": [
    "# write results to  it to \"patterns.txt\"\n",
    "# https://stackoverflow.com/questions/17801665/how-to-get-an-arbitrary-element-from-a-frozenset/17844057#17844057\n",
    "with open('part1/part1_v1.txt', 'wt') as f:\n",
    "    for k, v in frequent_1_itemsets.items():\n",
    "        x, = k\n",
    "        f.write(str(v) + ':' + str(x) + '\\n')"
   ]
  },
  {
   "cell_type": "code",
   "execution_count": null,
   "metadata": {
    "collapsed": true
   },
   "outputs": [],
   "source": []
  },
  {
   "cell_type": "code",
   "execution_count": null,
   "metadata": {
    "collapsed": true
   },
   "outputs": [],
   "source": []
  },
  {
   "cell_type": "code",
   "execution_count": null,
   "metadata": {
    "collapsed": true
   },
   "outputs": [],
   "source": []
  },
  {
   "cell_type": "markdown",
   "metadata": {},
   "source": [
    "# Part 2\n",
    "\n",
    "Please write all the frequent category sets along with their absolute supports into a text file named \"patterns.txt\". Every line corresponds to exactly one frequent category set and should be in the following format:\n",
    "\n",
    "support:category_1;category_2;category_3;...\n",
    "\n",
    "For example, suppose a category set (Fast Food; Restaurants) has an absolute support 2851, then the line corresponding to this frequent category set in \"patterns.txt\" should be:\n",
    "\n",
    "2851:Fast Food;Restaurants\n",
    "\n"
   ]
  },
  {
   "cell_type": "code",
   "execution_count": 11,
   "metadata": {
    "collapsed": false
   },
   "outputs": [],
   "source": [
    "all_frequent_itemsets = itemsets_support(transactions, result)"
   ]
  },
  {
   "cell_type": "code",
   "execution_count": 12,
   "metadata": {
    "collapsed": false
   },
   "outputs": [
    {
     "data": {
      "text/plain": [
       "Counter({frozenset({'Pizza'}): 2657,\n",
       "         frozenset({'Coffee & Tea', 'Food'}): 2199,\n",
       "         frozenset({'Sandwiches'}): 2364,\n",
       "         frozenset({'Bars', 'Sports Bars'}): 818,\n",
       "         frozenset({'Fashion', 'Shopping', \"Women's Clothing\"}): 1138,\n",
       "         frozenset({'Fitness & Instruction'}): 1442,\n",
       "         frozenset({'Auto Repair'}): 1716,\n",
       "         frozenset({'Food'}): 9250,\n",
       "         frozenset({'Active Life', 'Fitness & Instruction'}): 1442,\n",
       "         frozenset({'Pizza', 'Restaurants'}): 2657,\n",
       "         frozenset({\"Women's Clothing\"}): 1138,\n",
       "         frozenset({'Bars'}): 4328,\n",
       "         frozenset({'Ice Cream & Frozen Yogurt'}): 1018,\n",
       "         frozenset({'Restaurants'}): 25071,\n",
       "         frozenset({'Bakeries'}): 1115,\n",
       "         frozenset({'Doctors', 'Health & Medical'}): 1694,\n",
       "         frozenset({'Chinese'}): 1629,\n",
       "         frozenset({'Mexican', 'Restaurants'}): 2515,\n",
       "         frozenset({'Breakfast & Brunch', 'Restaurants'}): 1369,\n",
       "         frozenset({'Dentists', 'General Dentistry'}): 823,\n",
       "         frozenset({'Home Services'}): 4785,\n",
       "         frozenset({'Home Services', 'Real Estate'}): 1424,\n",
       "         frozenset({'Cafes'}): 1002,\n",
       "         frozenset({'Fashion', \"Women's Clothing\"}): 1138,\n",
       "         frozenset({'Coffee & Tea'}): 2199,\n",
       "         frozenset({'Beauty & Spas', 'Nail Salons'}): 1667,\n",
       "         frozenset({'Shopping', \"Women's Clothing\"}): 1138,\n",
       "         frozenset({'Doctors'}): 1694,\n",
       "         frozenset({'Specialty Food'}): 1150,\n",
       "         frozenset({'Home & Garden'}): 1586,\n",
       "         frozenset({'Event Planning & Services',\n",
       "                    'Hotels',\n",
       "                    'Hotels & Travel'}): 1431,\n",
       "         frozenset({'Pets'}): 1497,\n",
       "         frozenset({'Hair Salons'}): 2091,\n",
       "         frozenset({'Fast Food', 'Restaurants'}): 2851,\n",
       "         frozenset({'Breakfast & Brunch'}): 1369,\n",
       "         frozenset({'Grocery'}): 1424,\n",
       "         frozenset({'Burgers', 'Fast Food'}): 774,\n",
       "         frozenset({'American (Traditional)'}): 2416,\n",
       "         frozenset({'Professional Services'}): 1025,\n",
       "         frozenset({'Bars', 'Restaurants'}): 2423,\n",
       "         frozenset({'Local Services'}): 3468,\n",
       "         frozenset({'Shopping'}): 11233,\n",
       "         frozenset({'Dentists', 'General Dentistry', 'Health & Medical'}): 823,\n",
       "         frozenset({'American (New)'}): 1593,\n",
       "         frozenset({'Event Planning & Services'}): 2975,\n",
       "         frozenset({'Pet Services'}): 870,\n",
       "         frozenset({'Beauty & Spas'}): 6583,\n",
       "         frozenset({'American (Traditional)', 'Restaurants'}): 2416,\n",
       "         frozenset({'Financial Services'}): 875,\n",
       "         frozenset({'Arts & Entertainment'}): 2271,\n",
       "         frozenset({'Food', 'Specialty Food'}): 1150,\n",
       "         frozenset({'Nightlife', 'Sports Bars'}): 818,\n",
       "         frozenset({'Hotels', 'Hotels & Travel'}): 1431,\n",
       "         frozenset({'Burgers'}): 1774,\n",
       "         frozenset({'Italian', 'Restaurants'}): 1848,\n",
       "         frozenset({'Dentists', 'Health & Medical'}): 1195,\n",
       "         frozenset({'Nightlife', 'Restaurants'}): 2533,\n",
       "         frozenset({'Sushi Bars'}): 798,\n",
       "         frozenset({'Bars', 'Nightlife', 'Sports Bars'}): 818,\n",
       "         frozenset({'Italian', 'Pizza'}): 771,\n",
       "         frozenset({'Burgers', 'Restaurants'}): 1774,\n",
       "         frozenset({'Hotels'}): 1431,\n",
       "         frozenset({'Chinese', 'Restaurants'}): 1629,\n",
       "         frozenset({'Auto Repair', 'Automotive'}): 1716,\n",
       "         frozenset({'Dentists'}): 1195,\n",
       "         frozenset({'Nail Salons'}): 1667,\n",
       "         frozenset({'Pet Services', 'Pets'}): 870,\n",
       "         frozenset({'Nightlife', 'Pubs'}): 874,\n",
       "         frozenset({'Bars', 'Nightlife'}): 4328,\n",
       "         frozenset({'American (New)', 'Restaurants'}): 1593,\n",
       "         frozenset({'Fashion'}): 3078,\n",
       "         frozenset({'Fashion', 'Shopping'}): 3078,\n",
       "         frozenset({'Cafes', 'Restaurants'}): 1002,\n",
       "         frozenset({'Food', 'Ice Cream & Frozen Yogurt'}): 1018,\n",
       "         frozenset({'General Dentistry', 'Health & Medical'}): 823,\n",
       "         frozenset({'Pubs'}): 874,\n",
       "         frozenset({'Fast Food'}): 2851,\n",
       "         frozenset({'Event Planning & Services', 'Hotels & Travel'}): 1471,\n",
       "         frozenset({'Health & Medical'}): 5121,\n",
       "         frozenset({'Japanese', 'Restaurants'}): 848,\n",
       "         frozenset({'Burgers', 'Fast Food', 'Restaurants'}): 774,\n",
       "         frozenset({'Bars', 'Nightlife', 'Pubs'}): 874,\n",
       "         frozenset({'Automotive'}): 4208,\n",
       "         frozenset({'Bars', 'Nightlife', 'Restaurants'}): 2423,\n",
       "         frozenset({'Italian', 'Pizza', 'Restaurants'}): 771,\n",
       "         frozenset({'Home & Garden', 'Shopping'}): 1586,\n",
       "         frozenset({'General Dentistry'}): 823,\n",
       "         frozenset({'Event Planning & Services', 'Hotels'}): 1431,\n",
       "         frozenset({'Real Estate'}): 1424,\n",
       "         frozenset({'Italian'}): 1848,\n",
       "         frozenset({'Food', 'Restaurants'}): 2101,\n",
       "         frozenset({'Hotels & Travel'}): 2495,\n",
       "         frozenset({'Bars', 'Pubs'}): 874,\n",
       "         frozenset({'Active Life'}): 3103,\n",
       "         frozenset({'Food', 'Grocery'}): 1424,\n",
       "         frozenset({'Sports Bars'}): 818,\n",
       "         frozenset({'Mexican'}): 2515,\n",
       "         frozenset({'Nightlife'}): 5088,\n",
       "         frozenset({'Japanese'}): 848,\n",
       "         frozenset({'Bakeries', 'Food'}): 1115,\n",
       "         frozenset({'Restaurants', 'Sandwiches'}): 2364,\n",
       "         frozenset({'Beauty & Spas', 'Hair Salons'}): 2091,\n",
       "         frozenset({'Restaurants', 'Sushi Bars'}): 798})"
      ]
     },
     "execution_count": 12,
     "metadata": {},
     "output_type": "execute_result"
    }
   ],
   "source": [
    "all_frequent_itemsets"
   ]
  },
  {
   "cell_type": "code",
   "execution_count": 13,
   "metadata": {
    "collapsed": false
   },
   "outputs": [
    {
     "name": "stdout",
     "output_type": "stream",
     "text": [
      "2657:Pizza\n",
      "\n",
      "2199:Food;Coffee & Tea\n",
      "\n",
      "2364:Sandwiches\n",
      "\n",
      "874:Nightlife;Pubs\n",
      "\n",
      "1424:Food;Grocery\n",
      "\n",
      "774:Fast Food;Burgers\n",
      "\n",
      "1442:Fitness & Instruction\n",
      "\n",
      "1716:Auto Repair\n",
      "\n",
      "9250:Food\n",
      "\n",
      "1442:Fitness & Instruction;Active Life\n",
      "\n",
      "2657:Restaurants;Pizza\n",
      "\n",
      "1138:Women's Clothing\n",
      "\n",
      "4328:Bars\n",
      "\n",
      "1018:Ice Cream & Frozen Yogurt\n",
      "\n",
      "25071:Restaurants\n",
      "\n",
      "1115:Bakeries\n",
      "\n",
      "875:Financial Services\n",
      "\n",
      "1694:Health & Medical;Doctors\n",
      "\n",
      "1629:Chinese\n",
      "\n",
      "2515:Restaurants;Mexican\n",
      "\n",
      "1369:Restaurants;Breakfast & Brunch\n",
      "\n",
      "823:General Dentistry;Dentists\n",
      "\n",
      "1424:Home Services;Real Estate\n",
      "\n",
      "4785:Home Services\n",
      "\n",
      "1002:Cafes\n",
      "\n",
      "1138:Fashion;Women's Clothing\n",
      "\n",
      "2199:Coffee & Tea\n",
      "\n",
      "1667:Nail Salons;Beauty & Spas\n",
      "\n",
      "1694:Doctors\n",
      "\n",
      "1150:Specialty Food\n",
      "\n",
      "1586:Home & Garden\n",
      "\n",
      "1431:Event Planning & Services;Hotels & Travel;Hotels\n",
      "\n",
      "1497:Pets\n",
      "\n",
      "2091:Hair Salons\n",
      "\n",
      "2851:Restaurants;Fast Food\n",
      "\n",
      "1369:Breakfast & Brunch\n",
      "\n",
      "1424:Grocery\n",
      "\n",
      "1138:Fashion;Women's Clothing;Shopping\n",
      "\n",
      "2416:American (Traditional)\n",
      "\n",
      "823:General Dentistry;Health & Medical\n",
      "\n",
      "2423:Bars;Restaurants\n",
      "\n",
      "11233:Shopping\n",
      "\n",
      "823:General Dentistry;Health & Medical;Dentists\n",
      "\n",
      "1593:American (New)\n",
      "\n",
      "2975:Event Planning & Services\n",
      "\n",
      "870:Pet Services\n",
      "\n",
      "6583:Beauty & Spas\n",
      "\n",
      "2416:American (Traditional);Restaurants\n",
      "\n",
      "4208:Automotive\n",
      "\n",
      "2271:Arts & Entertainment\n",
      "\n",
      "1150:Food;Specialty Food\n",
      "\n",
      "818:Nightlife;Sports Bars\n",
      "\n",
      "1431:Hotels & Travel;Hotels\n",
      "\n",
      "1774:Burgers\n",
      "\n",
      "1848:Restaurants;Italian\n",
      "\n",
      "2364:Restaurants;Sandwiches\n",
      "\n",
      "1195:Health & Medical;Dentists\n",
      "\n",
      "2533:Nightlife;Restaurants\n",
      "\n",
      "798:Sushi Bars\n",
      "\n",
      "818:Bars;Sports Bars;Nightlife\n",
      "\n",
      "771:Italian;Pizza\n",
      "\n",
      "1774:Restaurants;Burgers\n",
      "\n",
      "1431:Hotels\n",
      "\n",
      "1629:Restaurants;Chinese\n",
      "\n",
      "1716:Auto Repair;Automotive\n",
      "\n",
      "1195:Dentists\n",
      "\n",
      "1667:Nail Salons\n",
      "\n",
      "870:Pets;Pet Services\n",
      "\n",
      "818:Bars;Sports Bars\n",
      "\n",
      "4328:Bars;Nightlife\n",
      "\n",
      "848:Japanese\n",
      "\n",
      "1593:Restaurants;American (New)\n",
      "\n",
      "3078:Fashion;Shopping\n",
      "\n",
      "1002:Restaurants;Cafes\n",
      "\n",
      "1018:Food;Ice Cream & Frozen Yogurt\n",
      "\n",
      "2101:Restaurants;Food\n",
      "\n",
      "874:Pubs\n",
      "\n",
      "874:Nightlife;Pubs;Bars\n",
      "\n",
      "5121:Health & Medical\n",
      "\n",
      "848:Restaurants;Japanese\n",
      "\n",
      "774:Restaurants;Fast Food;Burgers\n",
      "\n",
      "2851:Fast Food\n",
      "\n",
      "1025:Professional Services\n",
      "\n",
      "2423:Nightlife;Restaurants;Bars\n",
      "\n",
      "771:Restaurants;Italian;Pizza\n",
      "\n",
      "1586:Home & Garden;Shopping\n",
      "\n",
      "823:General Dentistry\n",
      "\n",
      "1431:Event Planning & Services;Hotels\n",
      "\n",
      "1424:Real Estate\n",
      "\n",
      "1848:Italian\n",
      "\n",
      "3468:Local Services\n",
      "\n",
      "2495:Hotels & Travel\n",
      "\n",
      "874:Bars;Pubs\n",
      "\n",
      "3103:Active Life\n",
      "\n",
      "3078:Fashion\n",
      "\n",
      "818:Sports Bars\n",
      "\n",
      "2515:Mexican\n",
      "\n",
      "5088:Nightlife\n",
      "\n",
      "1138:Women's Clothing;Shopping\n",
      "\n",
      "1115:Food;Bakeries\n",
      "\n",
      "1471:Event Planning & Services;Hotels & Travel\n",
      "\n",
      "2091:Beauty & Spas;Hair Salons\n",
      "\n",
      "798:Restaurants;Sushi Bars\n",
      "\n"
     ]
    }
   ],
   "source": [
    "# https://stackoverflow.com/questions/2399112/python-print-delimited-list\n",
    "category_set = []\n",
    "for k, v in all_frequent_itemsets.items():\n",
    "    # category_set = list(k)\n",
    "    category_set = [x for x in k]\n",
    "    print(str(v) + ':' + ';'.join(map(str, category_set)) + '\\n')"
   ]
  },
  {
   "cell_type": "code",
   "execution_count": 14,
   "metadata": {
    "collapsed": false
   },
   "outputs": [],
   "source": [
    "category_set = []\n",
    "with open('part2/part2_v1.txt', 'wt') as f:\n",
    "    for k, v in all_frequent_itemsets.items():\n",
    "        category_set = list(k)\n",
    "        f.write(str(v) + ':' + ';'.join(map(str, category_set)) + \"\\n\")"
   ]
  },
  {
   "cell_type": "code",
   "execution_count": null,
   "metadata": {
    "collapsed": true
   },
   "outputs": [],
   "source": []
  },
  {
   "cell_type": "code",
   "execution_count": null,
   "metadata": {
    "collapsed": true
   },
   "outputs": [],
   "source": []
  },
  {
   "cell_type": "code",
   "execution_count": null,
   "metadata": {
    "collapsed": true
   },
   "outputs": [],
   "source": []
  }
 ],
 "metadata": {
  "anaconda-cloud": {},
  "kernelspec": {
   "display_name": "Python [conda root]",
   "language": "python",
   "name": "conda-root-py"
  },
  "language_info": {
   "codemirror_mode": {
    "name": "ipython",
    "version": 3
   },
   "file_extension": ".py",
   "mimetype": "text/x-python",
   "name": "python",
   "nbconvert_exporter": "python",
   "pygments_lexer": "ipython3",
   "version": "3.5.2"
  }
 },
 "nbformat": 4,
 "nbformat_minor": 1
}
