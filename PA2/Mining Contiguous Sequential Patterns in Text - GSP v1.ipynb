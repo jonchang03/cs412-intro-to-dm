{
 "cells": [
  {
   "cell_type": "markdown",
   "metadata": {},
   "source": [
    "# Description\n",
    "In this programming assignment, you are required to implement a contiguous sequential pattern mining algorithm and apply it on text data to mine potential phrase candidates."
   ]
  },
  {
   "cell_type": "markdown",
   "metadata": {},
   "source": [
    "## Input\n",
    "The provided input file (\"reviews_sample.txt\") consists of 10,000 online reviews from Yelp users. The reviews have been stemmed (to remove the postfix of each word so words with similar semantics can have the same form), and most of the punctuation has been removed. Therefore, each line is basically a list of strings separated by spaces.\n",
    "\n",
    "An example line is provided below:\n",
    "\n",
    "`cold cheap beer good bar food good service looking great pittsburgh style fish \n",
    "sandwich place breading light fish plentiful good side home cut fry good \n",
    "grilled chicken salad steak soup day homemade lot special great place lunch \n",
    "bar snack beer`\n",
    "\n",
    "## Task\n",
    "You need to implement an algorithm to mine contiguous sequential patterns that are frequent in the input data. A contiguous sequential pattern is a sequence of items that frequently appears as a consecutive subsequence in a database of many sequences. For example, if the database is\n",
    "\n",
    "`A,B,A,C\n",
    "A,C,A,B,A,B\n",
    "B,A,A,C,D`\n",
    "\n",
    "and the minimum support is 2, then patterns like \"A,B,A\" or \"A,C\" are both frequent contiguous sequential patterns, while the pattern \"A,A\" is not a frequent contiguous sequential pattern because in the first two sequences the two A's are not consecutive to each other. Notice that it is still a frequent sequential pattern though.\n",
    "\n",
    "Also, notice that multiple appearances of a subsequence in a single sequence record only counts once. For example, the pattern \"A,B\" appears 1 time in the first sequence and 2 times in the second, but its support should be calculated as 2, as there are only 2 records containing subsequence \"A,B\".\n"
   ]
  },
  {
   "cell_type": "markdown",
   "metadata": {},
   "source": [
    "## GSP Implementation\n",
    "https://github.com/jacksonpradolima/gsp/blob/master/gsp.py"
   ]
  },
  {
   "cell_type": "code",
   "execution_count": 1,
   "metadata": {
    "collapsed": true
   },
   "outputs": [],
   "source": [
    "#!/usr/bin/python3\n",
    "# -*- coding: utf-8 -*-\n",
    "\"\"\"\n",
    "===============================================\n",
    "GSP (Generalized Sequential Pattern) algorithm\n",
    "===============================================\n",
    "\n",
    "GSP algorithm made with Python3 to deal with arrays as transactions.\n",
    "\n",
    "Example:\n",
    "\n",
    "transactions = [\n",
    "                ['Bread', 'Milk'],\n",
    "                ['Bread', 'Diaper', 'Beer', 'Eggs'],\n",
    "                ['Milk', 'Diaper', 'Beer', 'Coke'],\n",
    "                ['Bread', 'Milk', 'Diaper', 'Beer'],\n",
    "                ['Bread', 'Milk', 'Diaper', 'Coke']\n",
    "            ]\n",
    "\"\"\"\n",
    "\n",
    "import logging\n",
    "import multiprocessing as mp\n",
    "import numpy as np\n",
    "import time\n",
    "\n",
    "from collections import Counter\n",
    "from itertools import chain\n",
    "from itertools import product\n",
    "\n",
    "__author__ = \"Jackson Antonio do Prado Lima\"\n",
    "__email__ = \"jacksonpradolima@gmail.com\"\n",
    "__license__ = \"GPL\"\n",
    "__version__ = \"1.0\"\n",
    "\n",
    "\n",
    "class GSP:\n",
    "\n",
    "    def __init__(self, raw_transactions):\n",
    "        self.freq_patterns = []\n",
    "        self._pre_processing(raw_transactions)\n",
    "\n",
    "    def _pre_processing(self, raw_transactions):\n",
    "        '''\n",
    "        Prepare the data\n",
    "\n",
    "        Parameters:\n",
    "                raw_transactions: the data that it will be analysed\n",
    "        '''\n",
    "        self.max_size = max([len(item) for item in raw_transactions])\n",
    "        self.transactions = [tuple(list(i)) for i in raw_transactions]\n",
    "        counts = Counter(chain.from_iterable(raw_transactions))\n",
    "        self.unique_candidates = [tuple([k]) for k, c in counts.items()]\n",
    "\n",
    "    def _is_slice_in_list(self, s, l):\n",
    "        len_s = len(s)  # so we don't recompute length of s on every iteration\n",
    "        return any(s == l[i:len_s+i] for i in range(len(l) - len_s+1))\n",
    "\n",
    "    def _calc_frequency(self, results, item, minsup):\n",
    "        # The number of times the item appears in the transactions\n",
    "        frequency = len(\n",
    "            [t for t in self.transactions if self._is_slice_in_list(item, t)])\n",
    "        if frequency >= minsup:\n",
    "            results[item] = frequency\n",
    "        return results\n",
    "\n",
    "    def _support(self, items, minsup=0):\n",
    "        '''\n",
    "        The support count (or simply support) for a sequence is defined as\n",
    "        the fraction of total data-sequences that \"contain\" this sequence.\n",
    "        (Although the word \"contains\" is not strictly accurate once we\n",
    "        incorporate taxonomies, it captures the spirt of when a data-sequence\n",
    "        contributes to the support of a sequential pattern.)\n",
    "\n",
    "        Parameters\n",
    "                items: set of items that will be evaluated\n",
    "                minsup: minimum support\n",
    "        '''\n",
    "        results = mp.Manager().dict()\n",
    "        pool = mp.Pool(processes=mp.cpu_count())\n",
    "\n",
    "        for item in items:\n",
    "            pool.apply_async(self._calc_frequency,\n",
    "                             args=(results, item, minsup))\n",
    "        pool.close()\n",
    "        pool.join()\n",
    "\n",
    "        return dict(results)\n",
    "\n",
    "    def _print_status(self, run, candidates):\n",
    "        logging.debug(\"\"\"\n",
    "        Run {}\n",
    "        There are {} candidates.\n",
    "        The candidates have been filtered down to {}.\\n\"\"\"\n",
    "                      .format(run,\n",
    "                              len(candidates),\n",
    "                              len(self.freq_patterns[run-1])))\n",
    "\n",
    "    def search(self, minsup=0.2):\n",
    "        '''\n",
    "        Run GSP mining algorithm\n",
    "\n",
    "        Parameters\n",
    "                minsup: minimum support\n",
    "        '''\n",
    "        assert (0.0 < minsup) and (minsup <= 1.0)\n",
    "        minsup = len(self.transactions) * minsup\n",
    "\n",
    "        # the set of frequent 1-sequence: all singleton sequences\n",
    "        # (k-itemsets/k-sequence = 1) - Initially, every item in DB is a\n",
    "        # candidate\n",
    "        candidates = self.unique_candidates\n",
    "\n",
    "        # scan transactions to collect support count for each candidate\n",
    "        # sequence & filter\n",
    "        self.freq_patterns.append(self._support(candidates, minsup))\n",
    "\n",
    "        # (k-itemsets/k-sequence = 1)\n",
    "        k_items = 1\n",
    "\n",
    "        self._print_status(k_items, candidates)\n",
    "\n",
    "        # repeat until no frequent sequence or no candidate can be found\n",
    "        while len(self.freq_patterns[k_items - 1]) and (k_items + 1 <= self.max_size):\n",
    "            k_items += 1\n",
    "\n",
    "            # Generate candidate sets Ck (set of candidate k-sequences) -\n",
    "            # generate new candidates from the last \"best\" candidates filtered\n",
    "            # by minimum support\n",
    "            items = np.unique(\n",
    "                list(set(self.freq_patterns[k_items - 2].keys())))\n",
    "\n",
    "            candidates = list(product(items, repeat=k_items))\n",
    "\n",
    "            # candidate pruning - eliminates candidates who are not potentially\n",
    "            # frequent (using support as threshold)\n",
    "            self.freq_patterns.append(self._support(candidates, minsup))\n",
    "\n",
    "            self._print_status(k_items, candidates)\n",
    "        return self.freq_patterns[:-1]"
   ]
  },
  {
   "cell_type": "markdown",
   "metadata": {},
   "source": [
    "## Experimental database"
   ]
  },
  {
   "cell_type": "code",
   "execution_count": 2,
   "metadata": {
    "collapsed": false
   },
   "outputs": [
    {
     "name": "stderr",
     "output_type": "stream",
     "text": [
      "DEBUG:root:\n",
      "        Run 1\n",
      "        There are 4 candidates.\n",
      "        The candidates have been filtered down to 3.\n",
      "\n",
      "DEBUG:root:\n",
      "        Run 2\n",
      "        There are 9 candidates.\n",
      "        The candidates have been filtered down to 3.\n",
      "\n",
      "DEBUG:root:\n",
      "        Run 3\n",
      "        There are 27 candidates.\n",
      "        The candidates have been filtered down to 1.\n",
      "\n",
      "DEBUG:root:\n",
      "        Run 4\n",
      "        There are 16 candidates.\n",
      "        The candidates have been filtered down to 0.\n",
      "\n"
     ]
    },
    {
     "name": "stdout",
     "output_type": "stream",
     "text": [
      "========= Status =========\n",
      "Transactions: [['A', 'B', 'A', 'C'], ['A', 'C', 'A', 'B', 'A', 'B'], ['B', 'A', 'A', 'C', 'D']]\n",
      "GSP: [{('A',): 3, ('B',): 3, ('C',): 3}, {('A', 'B'): 2, ('A', 'C'): 3, ('B', 'A'): 3}, {('A', 'B', 'A'): 2}]\n"
     ]
    }
   ],
   "source": [
    "import argparse\n",
    "import logging\n",
    "import random\n",
    "\n",
    "logging.basicConfig(level=logging.DEBUG)\n",
    "\n",
    "# transactions = [\n",
    "#     ['Bread', 'Milk'],# for _ in procs:\n",
    "#     ['Bread', 'Diaper', 'Beer', 'Eggs'],\n",
    "#     ['Milk', 'Diaper', 'Beer', 'Coke'],\n",
    "#     ['Bread', 'Milk', 'Diaper', 'Beer'],\n",
    "#     ['Bread', 'Milk', 'Diaper', 'Coke']\n",
    "# ]\n",
    "\n",
    "# transactions = [[3, 5, 2, 0, 4, 4, 1, 1], [2, 5, 5], [5, 3, 2, 4, 4, 0, 4], [4, 3, 0, 0], [\n",
    "#     1, 0, 4, 0, 0, 4], [2, 5, 1, 3, 5, 2, 5, 3], [0, 4, 0, 4, 5], [4, 2],\n",
    "#     [5], [2, 3, 0, 0, 0, 3, 0, 2, 3]]\n",
    "\n",
    "\n",
    "# use example from the problemset\n",
    "# input is a list of lists\n",
    "transactions = [\n",
    "    ['A','B','A','C'],\n",
    "    ['A','C','A','B','A','B'],\n",
    "    ['B','A','A','C','D']]\n",
    "                \n",
    "\n",
    "result = GSP(transactions).search(2/3) # example in the problem\n",
    "\n",
    "print(\"========= Status =========\")\n",
    "print(\"Transactions: {}\".format(transactions))\n",
    "print(\"GSP: {}\".format(result)) # output is a list of dictionaries"
   ]
  },
  {
   "cell_type": "code",
   "execution_count": 3,
   "metadata": {
    "collapsed": false
   },
   "outputs": [
    {
     "name": "stdout",
     "output_type": "stream",
     "text": [
      "<class 'list'>\n",
      "<class 'list'>\n",
      "3\n"
     ]
    }
   ],
   "source": [
    "# check that transactions is list of lists\n",
    "print(type(transactions))\n",
    "print(type(transactions[0]))\n",
    "print(len(transactions))"
   ]
  },
  {
   "cell_type": "code",
   "execution_count": 4,
   "metadata": {
    "collapsed": false
   },
   "outputs": [
    {
     "name": "stdout",
     "output_type": "stream",
     "text": [
      "<class 'list'>\n",
      "<class 'dict'>\n"
     ]
    }
   ],
   "source": [
    "# check that output is list of dictionaries\n",
    "# value is the support, key is the sequential pattern\n",
    "print(type(result))\n",
    "print(type(result[0]))"
   ]
  },
  {
   "cell_type": "markdown",
   "metadata": {},
   "source": [
    "## Format Results + Write to File"
   ]
  },
  {
   "cell_type": "code",
   "execution_count": 7,
   "metadata": {
    "collapsed": false
   },
   "outputs": [
    {
     "name": "stdout",
     "output_type": "stream",
     "text": [
      "3:A\n",
      "\n",
      "3:B\n",
      "\n",
      "3:C\n",
      "\n",
      "2:A;B\n",
      "\n",
      "3:A;C\n",
      "\n",
      "3:B;A\n",
      "\n",
      "2:A;B;A\n",
      "\n"
     ]
    }
   ],
   "source": [
    "seq_pattern = []\n",
    "# print Formatting\n",
    "for seq_dict in result:\n",
    "    for k, v in seq_dict.items():\n",
    "        seq_pattern = [x for x in k]\n",
    "        print(str(v) + ':' + ';'.join(map(str, seq_pattern)) + '\\n')"
   ]
  },
  {
   "cell_type": "code",
   "execution_count": 8,
   "metadata": {
    "collapsed": true
   },
   "outputs": [],
   "source": [
    "seq_pattern = []\n",
    "with open('output/patterns_test.txt', 'wt') as f:\n",
    "    for seq_dict in result:\n",
    "        for k, v in seq_dict.items():\n",
    "            seq_pattern = [x for x in k]\n",
    "            f.write(str(v) + ':' + ';'.join(map(str, seq_pattern)) + '\\n')"
   ]
  },
  {
   "cell_type": "code",
   "execution_count": null,
   "metadata": {
    "collapsed": true
   },
   "outputs": [],
   "source": []
  },
  {
   "cell_type": "markdown",
   "metadata": {},
   "source": [
    "## Output\n",
    "Please set the relative minimum support to 0.01 and run it on the given text file. In other words, you need to extract all the frequent contiguous sequential patterns that have an absolute support no smaller than 100.\n",
    "\n",
    "Please write all the frequent contiguous sequential patterns along with their absolute supports into a text file named \"patterns.txt\". Every line corresponds to exactly one pattern you found and should be in the following format:\n",
    "\n",
    "support:item_1;item_2;item_3\n",
    "\n",
    "For example, suppose the phrase \"parking lot\" has an absolute support 133, then the line corresponding to this frequent contiguous sequential pattern in \"patterns.txt\" should be:\n",
    "\n",
    "133:parking;lot\n",
    "\n",
    "Notice that the order does matter in sequential pattern mining. That is to say,\n",
    "\n",
    "133:lot;parking\n",
    "\n",
    "may be graded as incorrect."
   ]
  },
  {
   "cell_type": "code",
   "execution_count": 9,
   "metadata": {
    "collapsed": false
   },
   "outputs": [
    {
     "name": "stdout",
     "output_type": "stream",
     "text": [
      "<class 'list'>\n",
      "<class 'list'>\n",
      "10000\n"
     ]
    }
   ],
   "source": [
    "# read \"reviews_samples.txt\" into list of lists\n",
    "# https://stackoverflow.com/questions/18448847/import-txt-file-and-having-each-line-as-a-list\n",
    "transactions = []\n",
    "with open('reviews_sample.txt', 'rt') as f:\n",
    "    for line in f:\n",
    "        transactions.append(line.strip().split(' '))\n",
    "print(type(transactions))\n",
    "print(type(transactions[0]))\n",
    "print(len(transactions))"
   ]
  },
  {
   "cell_type": "code",
   "execution_count": 10,
   "metadata": {
    "collapsed": false
   },
   "outputs": [
    {
     "name": "stderr",
     "output_type": "stream",
     "text": [
      "DEBUG:root:\n",
      "        Run 1\n",
      "        There are 22104 candidates.\n",
      "        The candidates have been filtered down to 977.\n",
      "\n",
      "Process ForkPoolWorker-50:\n",
      "Process ForkPoolWorker-49:\n",
      "Process ForkPoolWorker-54:\n",
      "Process ForkPoolWorker-53:\n",
      "Process ForkPoolWorker-48:\n",
      "Process ForkPoolWorker-51:\n",
      "Process ForkPoolWorker-47:\n",
      "Traceback (most recent call last):\n",
      "Traceback (most recent call last):\n",
      "  File \"/Users/jonathan/anaconda/envs/cs498/lib/python3.6/multiprocessing/process.py\", line 258, in _bootstrap\n",
      "    self.run()\n",
      "Traceback (most recent call last):\n",
      "Traceback (most recent call last):\n",
      "Traceback (most recent call last):\n",
      "Traceback (most recent call last):\n",
      "Traceback (most recent call last):\n",
      "  File \"/Users/jonathan/anaconda/envs/cs498/lib/python3.6/multiprocessing/process.py\", line 258, in _bootstrap\n",
      "    self.run()\n",
      "  File \"/Users/jonathan/anaconda/envs/cs498/lib/python3.6/multiprocessing/process.py\", line 93, in run\n",
      "    self._target(*self._args, **self._kwargs)\n",
      "  File \"/Users/jonathan/anaconda/envs/cs498/lib/python3.6/multiprocessing/process.py\", line 258, in _bootstrap\n",
      "    self.run()\n",
      "  File \"/Users/jonathan/anaconda/envs/cs498/lib/python3.6/multiprocessing/process.py\", line 258, in _bootstrap\n",
      "    self.run()\n",
      "  File \"/Users/jonathan/anaconda/envs/cs498/lib/python3.6/multiprocessing/process.py\", line 258, in _bootstrap\n",
      "    self.run()\n",
      "  File \"/Users/jonathan/anaconda/envs/cs498/lib/python3.6/multiprocessing/process.py\", line 258, in _bootstrap\n",
      "    self.run()\n",
      "  File \"/Users/jonathan/anaconda/envs/cs498/lib/python3.6/multiprocessing/process.py\", line 258, in _bootstrap\n",
      "    self.run()\n",
      "  File \"/Users/jonathan/anaconda/envs/cs498/lib/python3.6/multiprocessing/process.py\", line 93, in run\n",
      "    self._target(*self._args, **self._kwargs)\n",
      "  File \"/Users/jonathan/anaconda/envs/cs498/lib/python3.6/multiprocessing/pool.py\", line 119, in worker\n",
      "    result = (True, func(*args, **kwds))\n",
      "  File \"/Users/jonathan/anaconda/envs/cs498/lib/python3.6/multiprocessing/process.py\", line 93, in run\n",
      "    self._target(*self._args, **self._kwargs)\n",
      "  File \"/Users/jonathan/anaconda/envs/cs498/lib/python3.6/multiprocessing/process.py\", line 93, in run\n",
      "    self._target(*self._args, **self._kwargs)\n",
      "  File \"/Users/jonathan/anaconda/envs/cs498/lib/python3.6/multiprocessing/process.py\", line 93, in run\n",
      "    self._target(*self._args, **self._kwargs)\n",
      "  File \"/Users/jonathan/anaconda/envs/cs498/lib/python3.6/multiprocessing/process.py\", line 93, in run\n",
      "    self._target(*self._args, **self._kwargs)\n",
      "  File \"/Users/jonathan/anaconda/envs/cs498/lib/python3.6/multiprocessing/process.py\", line 93, in run\n",
      "    self._target(*self._args, **self._kwargs)\n",
      "  File \"/Users/jonathan/anaconda/envs/cs498/lib/python3.6/multiprocessing/pool.py\", line 108, in worker\n",
      "    task = get()\n",
      "  File \"/Users/jonathan/anaconda/envs/cs498/lib/python3.6/multiprocessing/pool.py\", line 108, in worker\n",
      "    task = get()\n",
      "  File \"<ipython-input-1-f3ec4c4f60bb>\", line 61, in _calc_frequency\n",
      "    [t for t in self.transactions if self._is_slice_in_list(item, t)])\n",
      "  File \"/Users/jonathan/anaconda/envs/cs498/lib/python3.6/multiprocessing/pool.py\", line 108, in worker\n",
      "    task = get()\n",
      "  File \"/Users/jonathan/anaconda/envs/cs498/lib/python3.6/multiprocessing/pool.py\", line 108, in worker\n",
      "    task = get()\n",
      "  File \"/Users/jonathan/anaconda/envs/cs498/lib/python3.6/multiprocessing/pool.py\", line 108, in worker\n",
      "    task = get()\n",
      "  File \"/Users/jonathan/anaconda/envs/cs498/lib/python3.6/multiprocessing/pool.py\", line 108, in worker\n",
      "    task = get()\n",
      "  File \"/Users/jonathan/anaconda/envs/cs498/lib/python3.6/multiprocessing/queues.py\", line 334, in get\n",
      "    with self._rlock:\n",
      "  File \"/Users/jonathan/anaconda/envs/cs498/lib/python3.6/multiprocessing/queues.py\", line 334, in get\n",
      "    with self._rlock:\n",
      "  File \"/Users/jonathan/anaconda/envs/cs498/lib/python3.6/multiprocessing/queues.py\", line 334, in get\n",
      "    with self._rlock:\n",
      "  File \"<ipython-input-1-f3ec4c4f60bb>\", line 61, in <listcomp>\n",
      "    [t for t in self.transactions if self._is_slice_in_list(item, t)])\n",
      "  File \"/Users/jonathan/anaconda/envs/cs498/lib/python3.6/multiprocessing/queues.py\", line 334, in get\n",
      "    with self._rlock:\n",
      "  File \"/Users/jonathan/anaconda/envs/cs498/lib/python3.6/multiprocessing/queues.py\", line 334, in get\n",
      "    with self._rlock:\n",
      "  File \"/Users/jonathan/anaconda/envs/cs498/lib/python3.6/multiprocessing/queues.py\", line 335, in get\n",
      "    res = self._reader.recv_bytes()\n",
      "  File \"/Users/jonathan/anaconda/envs/cs498/lib/python3.6/multiprocessing/synchronize.py\", line 96, in __enter__\n",
      "    return self._semlock.__enter__()\n",
      "  File \"/Users/jonathan/anaconda/envs/cs498/lib/python3.6/multiprocessing/synchronize.py\", line 96, in __enter__\n",
      "    return self._semlock.__enter__()\n",
      "  File \"/Users/jonathan/anaconda/envs/cs498/lib/python3.6/multiprocessing/synchronize.py\", line 96, in __enter__\n",
      "    return self._semlock.__enter__()\n",
      "  File \"/Users/jonathan/anaconda/envs/cs498/lib/python3.6/multiprocessing/synchronize.py\", line 96, in __enter__\n",
      "    return self._semlock.__enter__()\n",
      "  File \"<ipython-input-1-f3ec4c4f60bb>\", line 56, in _is_slice_in_list\n",
      "    return any(s == l[i:len_s+i] for i in range(len(l) - len_s+1))\n",
      "  File \"/Users/jonathan/anaconda/envs/cs498/lib/python3.6/multiprocessing/connection.py\", line 216, in recv_bytes\n",
      "    buf = self._recv_bytes(maxlength)\n",
      "  File \"/Users/jonathan/anaconda/envs/cs498/lib/python3.6/multiprocessing/synchronize.py\", line 96, in __enter__\n",
      "    return self._semlock.__enter__()\n",
      "KeyboardInterrupt\n",
      "KeyboardInterrupt\n",
      "KeyboardInterrupt\n",
      "KeyboardInterrupt\n",
      "  File \"<ipython-input-1-f3ec4c4f60bb>\", line 56, in <genexpr>\n",
      "    return any(s == l[i:len_s+i] for i in range(len(l) - len_s+1))\n",
      "KeyboardInterrupt\n",
      "  File \"/Users/jonathan/anaconda/envs/cs498/lib/python3.6/multiprocessing/connection.py\", line 407, in _recv_bytes\n",
      "    buf = self._recv(4)\n",
      "KeyboardInterrupt\n",
      "  File \"/Users/jonathan/anaconda/envs/cs498/lib/python3.6/multiprocessing/connection.py\", line 379, in _recv\n",
      "    chunk = read(handle, remaining)\n",
      "KeyboardInterrupt\n",
      "Process ForkPoolWorker-52:\n",
      "Traceback (most recent call last):\n",
      "  File \"/Users/jonathan/anaconda/envs/cs498/lib/python3.6/multiprocessing/process.py\", line 258, in _bootstrap\n",
      "    self.run()\n",
      "  File \"/Users/jonathan/anaconda/envs/cs498/lib/python3.6/multiprocessing/process.py\", line 93, in run\n",
      "    self._target(*self._args, **self._kwargs)\n",
      "  File \"/Users/jonathan/anaconda/envs/cs498/lib/python3.6/multiprocessing/pool.py\", line 108, in worker\n",
      "    task = get()\n",
      "  File \"/Users/jonathan/anaconda/envs/cs498/lib/python3.6/multiprocessing/queues.py\", line 337, in get\n",
      "    return _ForkingPickler.loads(res)\n",
      "  File \"/Users/jonathan/anaconda/envs/cs498/lib/python3.6/multiprocessing/managers.py\", line 63, in __setstate__\n",
      "    def __setstate__(self, state):\n",
      "KeyboardInterrupt\n"
     ]
    },
    {
     "ename": "KeyboardInterrupt",
     "evalue": "",
     "output_type": "error",
     "traceback": [
      "\u001b[0;31m---------------------------------------------------------------------------\u001b[0m",
      "\u001b[0;31mKeyboardInterrupt\u001b[0m                         Traceback (most recent call last)",
      "\u001b[0;32m<timed exec>\u001b[0m in \u001b[0;36m<module>\u001b[0;34m()\u001b[0m\n",
      "\u001b[0;32m<ipython-input-1-f3ec4c4f60bb>\u001b[0m in \u001b[0;36msearch\u001b[0;34m(self, minsup)\u001b[0m\n\u001b[1;32m    134\u001b[0m             \u001b[0;31m# candidate pruning - eliminates candidates who are not potentially\u001b[0m\u001b[0;34m\u001b[0m\u001b[0;34m\u001b[0m\u001b[0m\n\u001b[1;32m    135\u001b[0m             \u001b[0;31m# frequent (using support as threshold)\u001b[0m\u001b[0;34m\u001b[0m\u001b[0;34m\u001b[0m\u001b[0m\n\u001b[0;32m--> 136\u001b[0;31m             \u001b[0mself\u001b[0m\u001b[0;34m.\u001b[0m\u001b[0mfreq_patterns\u001b[0m\u001b[0;34m.\u001b[0m\u001b[0mappend\u001b[0m\u001b[0;34m(\u001b[0m\u001b[0mself\u001b[0m\u001b[0;34m.\u001b[0m\u001b[0m_support\u001b[0m\u001b[0;34m(\u001b[0m\u001b[0mcandidates\u001b[0m\u001b[0;34m,\u001b[0m \u001b[0mminsup\u001b[0m\u001b[0;34m)\u001b[0m\u001b[0;34m)\u001b[0m\u001b[0;34m\u001b[0m\u001b[0m\n\u001b[0m\u001b[1;32m    137\u001b[0m \u001b[0;34m\u001b[0m\u001b[0m\n\u001b[1;32m    138\u001b[0m             \u001b[0mself\u001b[0m\u001b[0;34m.\u001b[0m\u001b[0m_print_status\u001b[0m\u001b[0;34m(\u001b[0m\u001b[0mk_items\u001b[0m\u001b[0;34m,\u001b[0m \u001b[0mcandidates\u001b[0m\u001b[0;34m)\u001b[0m\u001b[0;34m\u001b[0m\u001b[0m\n",
      "\u001b[0;32m<ipython-input-1-f3ec4c4f60bb>\u001b[0m in \u001b[0;36m_support\u001b[0;34m(self, items, minsup)\u001b[0m\n\u001b[1;32m     83\u001b[0m                              args=(results, item, minsup))\n\u001b[1;32m     84\u001b[0m         \u001b[0mpool\u001b[0m\u001b[0;34m.\u001b[0m\u001b[0mclose\u001b[0m\u001b[0;34m(\u001b[0m\u001b[0;34m)\u001b[0m\u001b[0;34m\u001b[0m\u001b[0m\n\u001b[0;32m---> 85\u001b[0;31m         \u001b[0mpool\u001b[0m\u001b[0;34m.\u001b[0m\u001b[0mjoin\u001b[0m\u001b[0;34m(\u001b[0m\u001b[0;34m)\u001b[0m\u001b[0;34m\u001b[0m\u001b[0m\n\u001b[0m\u001b[1;32m     86\u001b[0m \u001b[0;34m\u001b[0m\u001b[0m\n\u001b[1;32m     87\u001b[0m         \u001b[0;32mreturn\u001b[0m \u001b[0mdict\u001b[0m\u001b[0;34m(\u001b[0m\u001b[0mresults\u001b[0m\u001b[0;34m)\u001b[0m\u001b[0;34m\u001b[0m\u001b[0m\n",
      "\u001b[0;32m~/anaconda/envs/cs498/lib/python3.6/multiprocessing/pool.py\u001b[0m in \u001b[0;36mjoin\u001b[0;34m(self)\u001b[0m\n\u001b[1;32m    544\u001b[0m         \u001b[0mutil\u001b[0m\u001b[0;34m.\u001b[0m\u001b[0mdebug\u001b[0m\u001b[0;34m(\u001b[0m\u001b[0;34m'joining pool'\u001b[0m\u001b[0;34m)\u001b[0m\u001b[0;34m\u001b[0m\u001b[0m\n\u001b[1;32m    545\u001b[0m         \u001b[0;32massert\u001b[0m \u001b[0mself\u001b[0m\u001b[0;34m.\u001b[0m\u001b[0m_state\u001b[0m \u001b[0;32min\u001b[0m \u001b[0;34m(\u001b[0m\u001b[0mCLOSE\u001b[0m\u001b[0;34m,\u001b[0m \u001b[0mTERMINATE\u001b[0m\u001b[0;34m)\u001b[0m\u001b[0;34m\u001b[0m\u001b[0m\n\u001b[0;32m--> 546\u001b[0;31m         \u001b[0mself\u001b[0m\u001b[0;34m.\u001b[0m\u001b[0m_worker_handler\u001b[0m\u001b[0;34m.\u001b[0m\u001b[0mjoin\u001b[0m\u001b[0;34m(\u001b[0m\u001b[0;34m)\u001b[0m\u001b[0;34m\u001b[0m\u001b[0m\n\u001b[0m\u001b[1;32m    547\u001b[0m         \u001b[0mself\u001b[0m\u001b[0;34m.\u001b[0m\u001b[0m_task_handler\u001b[0m\u001b[0;34m.\u001b[0m\u001b[0mjoin\u001b[0m\u001b[0;34m(\u001b[0m\u001b[0;34m)\u001b[0m\u001b[0;34m\u001b[0m\u001b[0m\n\u001b[1;32m    548\u001b[0m         \u001b[0mself\u001b[0m\u001b[0;34m.\u001b[0m\u001b[0m_result_handler\u001b[0m\u001b[0;34m.\u001b[0m\u001b[0mjoin\u001b[0m\u001b[0;34m(\u001b[0m\u001b[0;34m)\u001b[0m\u001b[0;34m\u001b[0m\u001b[0m\n",
      "\u001b[0;32m~/anaconda/envs/cs498/lib/python3.6/threading.py\u001b[0m in \u001b[0;36mjoin\u001b[0;34m(self, timeout)\u001b[0m\n\u001b[1;32m   1054\u001b[0m \u001b[0;34m\u001b[0m\u001b[0m\n\u001b[1;32m   1055\u001b[0m         \u001b[0;32mif\u001b[0m \u001b[0mtimeout\u001b[0m \u001b[0;32mis\u001b[0m \u001b[0;32mNone\u001b[0m\u001b[0;34m:\u001b[0m\u001b[0;34m\u001b[0m\u001b[0m\n\u001b[0;32m-> 1056\u001b[0;31m             \u001b[0mself\u001b[0m\u001b[0;34m.\u001b[0m\u001b[0m_wait_for_tstate_lock\u001b[0m\u001b[0;34m(\u001b[0m\u001b[0;34m)\u001b[0m\u001b[0;34m\u001b[0m\u001b[0m\n\u001b[0m\u001b[1;32m   1057\u001b[0m         \u001b[0;32melse\u001b[0m\u001b[0;34m:\u001b[0m\u001b[0;34m\u001b[0m\u001b[0m\n\u001b[1;32m   1058\u001b[0m             \u001b[0;31m# the behavior of a negative timeout isn't documented, but\u001b[0m\u001b[0;34m\u001b[0m\u001b[0;34m\u001b[0m\u001b[0m\n",
      "\u001b[0;32m~/anaconda/envs/cs498/lib/python3.6/threading.py\u001b[0m in \u001b[0;36m_wait_for_tstate_lock\u001b[0;34m(self, block, timeout)\u001b[0m\n\u001b[1;32m   1070\u001b[0m         \u001b[0;32mif\u001b[0m \u001b[0mlock\u001b[0m \u001b[0;32mis\u001b[0m \u001b[0;32mNone\u001b[0m\u001b[0;34m:\u001b[0m  \u001b[0;31m# already determined that the C code is done\u001b[0m\u001b[0;34m\u001b[0m\u001b[0m\n\u001b[1;32m   1071\u001b[0m             \u001b[0;32massert\u001b[0m \u001b[0mself\u001b[0m\u001b[0;34m.\u001b[0m\u001b[0m_is_stopped\u001b[0m\u001b[0;34m\u001b[0m\u001b[0m\n\u001b[0;32m-> 1072\u001b[0;31m         \u001b[0;32melif\u001b[0m \u001b[0mlock\u001b[0m\u001b[0;34m.\u001b[0m\u001b[0macquire\u001b[0m\u001b[0;34m(\u001b[0m\u001b[0mblock\u001b[0m\u001b[0;34m,\u001b[0m \u001b[0mtimeout\u001b[0m\u001b[0;34m)\u001b[0m\u001b[0;34m:\u001b[0m\u001b[0;34m\u001b[0m\u001b[0m\n\u001b[0m\u001b[1;32m   1073\u001b[0m             \u001b[0mlock\u001b[0m\u001b[0;34m.\u001b[0m\u001b[0mrelease\u001b[0m\u001b[0;34m(\u001b[0m\u001b[0;34m)\u001b[0m\u001b[0;34m\u001b[0m\u001b[0m\n\u001b[1;32m   1074\u001b[0m             \u001b[0mself\u001b[0m\u001b[0;34m.\u001b[0m\u001b[0m_stop\u001b[0m\u001b[0;34m(\u001b[0m\u001b[0;34m)\u001b[0m\u001b[0;34m\u001b[0m\u001b[0m\n",
      "\u001b[0;31mKeyboardInterrupt\u001b[0m: "
     ]
    }
   ],
   "source": [
    "%%time\n",
    "# run the GSP algorithm from above on our transactions list\n",
    "logging.basicConfig(level=logging.DEBUG)\n",
    "\n",
    "# set relative minimum support to 0.01\n",
    "result = GSP(transactions).search(0.01)\n",
    "\n",
    "print(\"========= Status =========\")\n",
    "print(\"Transactions: {}\".format(transactions))\n",
    "print(\"GSP: {}\".format(result))"
   ]
  },
  {
   "cell_type": "code",
   "execution_count": 11,
   "metadata": {
    "collapsed": true
   },
   "outputs": [],
   "source": [
    "seq_pattern = []\n",
    "with open('output/patterns.txt', 'wt') as f:\n",
    "    for seq_dict in result:\n",
    "        for k, v in seq_dict.items():\n",
    "            seq_pattern = [x for x in k]\n",
    "            f.write(str(v) + ':' + ';'.join(map(str, seq_pattern)) + '\\n')"
   ]
  },
  {
   "cell_type": "code",
   "execution_count": null,
   "metadata": {
    "collapsed": true
   },
   "outputs": [],
   "source": []
  },
  {
   "cell_type": "code",
   "execution_count": null,
   "metadata": {
    "collapsed": true
   },
   "outputs": [],
   "source": []
  }
 ],
 "metadata": {
  "anaconda-cloud": {},
  "kernelspec": {
   "display_name": "Python [conda env:cs498]",
   "language": "python",
   "name": "conda-env-cs498-py"
  },
  "language_info": {
   "codemirror_mode": {
    "name": "ipython",
    "version": 3
   },
   "file_extension": ".py",
   "mimetype": "text/x-python",
   "name": "python",
   "nbconvert_exporter": "python",
   "pygments_lexer": "ipython3",
   "version": "3.6.4"
  }
 },
 "nbformat": 4,
 "nbformat_minor": 1
}
