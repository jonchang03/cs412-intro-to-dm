{
 "cells": [
  {
   "cell_type": "markdown",
   "metadata": {},
   "source": [
    "In this assignment, you will build a classification framework. You need to implement the decision tree algorithm with Gini-index as the attribute selection measure.\n",
    "\n",
    "You will be given a training dataset \"training.txt\" and a testing dataset \"testing.txt\". In the training dataset, the data format is\n",
    "```\n",
    "<label> <index1>:<value1> <index2>:<value2> ...\n",
    "\n",
    "......\n",
    "```\n",
    "\n",
    "Each line contains an instance and is ended by a '\\n' character. <label> is an integer indicating the class label. The pair <index>:<value> gives a feature (attribute) value: <index> is a non-negative integer and <value> is a number (we only consider categorical attributes in this assignment). Note that one attribute may have more than 2 possible values, meaning it is a multi-value categorical attribute.\n",
    "\n",
    "In the testing dataset, the data format is\n",
    "```\n",
    "<index1>:<value1> <index2>:<value2> ...\n",
    "\n",
    "......\n",
    "```\n",
    "\n",
    "You will no longer have the `<label>` in each line.\n",
    "\n",
    "You need to submit a file titled `\"result.txt\"`. Each line contains one integer representing the predicted label of a testing sample.\n",
    "\n",
    "You will be graded based on whether your file format is correct and on the precision of your classifier on the testing dataset. You will get a full score as long as your precision is above a certain threshold."
   ]
  },
  {
   "cell_type": "markdown",
   "metadata": {},
   "source": [
    "## Data Engineering"
   ]
  },
  {
   "cell_type": "code",
   "execution_count": 98,
   "metadata": {
    "collapsed": true
   },
   "outputs": [],
   "source": [
    "import pandas as pd\n",
    "import numpy as np"
   ]
  },
  {
   "cell_type": "code",
   "execution_count": 51,
   "metadata": {
    "collapsed": false
   },
   "outputs": [
    {
     "data": {
      "text/html": [
       "<div>\n",
       "<style scoped>\n",
       "    .dataframe tbody tr th:only-of-type {\n",
       "        vertical-align: middle;\n",
       "    }\n",
       "\n",
       "    .dataframe tbody tr th {\n",
       "        vertical-align: top;\n",
       "    }\n",
       "\n",
       "    .dataframe thead th {\n",
       "        text-align: right;\n",
       "    }\n",
       "</style>\n",
       "<table border=\"1\" class=\"dataframe\">\n",
       "  <thead>\n",
       "    <tr style=\"text-align: right;\">\n",
       "      <th></th>\n",
       "      <th>0</th>\n",
       "      <th>1</th>\n",
       "      <th>2</th>\n",
       "      <th>3</th>\n",
       "      <th>4</th>\n",
       "      <th>5</th>\n",
       "      <th>6</th>\n",
       "      <th>7</th>\n",
       "      <th>8</th>\n",
       "      <th>9</th>\n",
       "      <th>...</th>\n",
       "      <th>119</th>\n",
       "      <th>120</th>\n",
       "      <th>121</th>\n",
       "      <th>122</th>\n",
       "      <th>123</th>\n",
       "      <th>124</th>\n",
       "      <th>125</th>\n",
       "      <th>126</th>\n",
       "      <th>127</th>\n",
       "      <th>128</th>\n",
       "    </tr>\n",
       "  </thead>\n",
       "  <tbody>\n",
       "    <tr>\n",
       "      <th>0</th>\n",
       "      <td>4</td>\n",
       "      <td>0:3</td>\n",
       "      <td>1:2</td>\n",
       "      <td>2:2</td>\n",
       "      <td>3:2</td>\n",
       "      <td>4:1</td>\n",
       "      <td>5:2</td>\n",
       "      <td>6:2</td>\n",
       "      <td>7:3</td>\n",
       "      <td>8:1</td>\n",
       "      <td>...</td>\n",
       "      <td>118:2</td>\n",
       "      <td>119:2</td>\n",
       "      <td>120:2</td>\n",
       "      <td>121:2</td>\n",
       "      <td>122:2</td>\n",
       "      <td>123:2</td>\n",
       "      <td>124:1</td>\n",
       "      <td>125:2</td>\n",
       "      <td>126:2</td>\n",
       "      <td>127:2</td>\n",
       "    </tr>\n",
       "    <tr>\n",
       "      <th>1</th>\n",
       "      <td>4</td>\n",
       "      <td>0:2</td>\n",
       "      <td>1:3</td>\n",
       "      <td>2:2</td>\n",
       "      <td>3:1</td>\n",
       "      <td>4:2</td>\n",
       "      <td>5:3</td>\n",
       "      <td>6:2</td>\n",
       "      <td>7:3</td>\n",
       "      <td>8:2</td>\n",
       "      <td>...</td>\n",
       "      <td>118:1</td>\n",
       "      <td>119:1</td>\n",
       "      <td>120:2</td>\n",
       "      <td>121:3</td>\n",
       "      <td>122:1</td>\n",
       "      <td>123:3</td>\n",
       "      <td>124:2</td>\n",
       "      <td>125:3</td>\n",
       "      <td>126:3</td>\n",
       "      <td>127:1</td>\n",
       "    </tr>\n",
       "    <tr>\n",
       "      <th>2</th>\n",
       "      <td>2</td>\n",
       "      <td>0:2</td>\n",
       "      <td>1:2</td>\n",
       "      <td>2:2</td>\n",
       "      <td>3:1</td>\n",
       "      <td>4:1</td>\n",
       "      <td>5:1</td>\n",
       "      <td>6:2</td>\n",
       "      <td>7:3</td>\n",
       "      <td>8:1</td>\n",
       "      <td>...</td>\n",
       "      <td>118:3</td>\n",
       "      <td>119:2</td>\n",
       "      <td>120:2</td>\n",
       "      <td>121:2</td>\n",
       "      <td>122:2</td>\n",
       "      <td>123:2</td>\n",
       "      <td>124:2</td>\n",
       "      <td>125:2</td>\n",
       "      <td>126:2</td>\n",
       "      <td>127:2</td>\n",
       "    </tr>\n",
       "    <tr>\n",
       "      <th>3</th>\n",
       "      <td>4</td>\n",
       "      <td>0:1</td>\n",
       "      <td>1:2</td>\n",
       "      <td>2:2</td>\n",
       "      <td>3:2</td>\n",
       "      <td>4:2</td>\n",
       "      <td>5:3</td>\n",
       "      <td>6:2</td>\n",
       "      <td>7:2</td>\n",
       "      <td>8:2</td>\n",
       "      <td>...</td>\n",
       "      <td>118:1</td>\n",
       "      <td>119:1</td>\n",
       "      <td>120:2</td>\n",
       "      <td>121:2</td>\n",
       "      <td>122:2</td>\n",
       "      <td>123:2</td>\n",
       "      <td>124:2</td>\n",
       "      <td>125:3</td>\n",
       "      <td>126:3</td>\n",
       "      <td>127:3</td>\n",
       "    </tr>\n",
       "    <tr>\n",
       "      <th>4</th>\n",
       "      <td>4</td>\n",
       "      <td>0:2</td>\n",
       "      <td>1:2</td>\n",
       "      <td>2:2</td>\n",
       "      <td>3:2</td>\n",
       "      <td>4:1</td>\n",
       "      <td>5:2</td>\n",
       "      <td>6:2</td>\n",
       "      <td>7:2</td>\n",
       "      <td>8:1</td>\n",
       "      <td>...</td>\n",
       "      <td>118:2</td>\n",
       "      <td>119:2</td>\n",
       "      <td>120:3</td>\n",
       "      <td>121:2</td>\n",
       "      <td>122:1</td>\n",
       "      <td>123:1</td>\n",
       "      <td>124:1</td>\n",
       "      <td>125:2</td>\n",
       "      <td>126:2</td>\n",
       "      <td>127:1</td>\n",
       "    </tr>\n",
       "  </tbody>\n",
       "</table>\n",
       "<p>5 rows × 129 columns</p>\n",
       "</div>"
      ],
      "text/plain": [
       "   0    1    2    3    4    5    6    7    8    9    ...      119    120  \\\n",
       "0    4  0:3  1:2  2:2  3:2  4:1  5:2  6:2  7:3  8:1  ...    118:2  119:2   \n",
       "1    4  0:2  1:3  2:2  3:1  4:2  5:3  6:2  7:3  8:2  ...    118:1  119:1   \n",
       "2    2  0:2  1:2  2:2  3:1  4:1  5:1  6:2  7:3  8:1  ...    118:3  119:2   \n",
       "3    4  0:1  1:2  2:2  3:2  4:2  5:3  6:2  7:2  8:2  ...    118:1  119:1   \n",
       "4    4  0:2  1:2  2:2  3:2  4:1  5:2  6:2  7:2  8:1  ...    118:2  119:2   \n",
       "\n",
       "     121    122    123    124    125    126    127    128  \n",
       "0  120:2  121:2  122:2  123:2  124:1  125:2  126:2  127:2  \n",
       "1  120:2  121:3  122:1  123:3  124:2  125:3  126:3  127:1  \n",
       "2  120:2  121:2  122:2  123:2  124:2  125:2  126:2  127:2  \n",
       "3  120:2  121:2  122:2  123:2  124:2  125:3  126:3  127:3  \n",
       "4  120:3  121:2  122:1  123:1  124:1  125:2  126:2  127:1  \n",
       "\n",
       "[5 rows x 129 columns]"
      ]
     },
     "execution_count": 51,
     "metadata": {},
     "output_type": "execute_result"
    }
   ],
   "source": [
    "train_untouched = pd.read_csv('./training.txt', sep=\" \", header=None)\n",
    "train_untouched.head()"
   ]
  },
  {
   "cell_type": "code",
   "execution_count": 52,
   "metadata": {
    "collapsed": false
   },
   "outputs": [
    {
     "data": {
      "text/html": [
       "<div>\n",
       "<style scoped>\n",
       "    .dataframe tbody tr th:only-of-type {\n",
       "        vertical-align: middle;\n",
       "    }\n",
       "\n",
       "    .dataframe tbody tr th {\n",
       "        vertical-align: top;\n",
       "    }\n",
       "\n",
       "    .dataframe thead th {\n",
       "        text-align: right;\n",
       "    }\n",
       "</style>\n",
       "<table border=\"1\" class=\"dataframe\">\n",
       "  <thead>\n",
       "    <tr style=\"text-align: right;\">\n",
       "      <th></th>\n",
       "      <th>1</th>\n",
       "      <th>2</th>\n",
       "      <th>3</th>\n",
       "      <th>4</th>\n",
       "      <th>5</th>\n",
       "      <th>6</th>\n",
       "      <th>7</th>\n",
       "      <th>8</th>\n",
       "      <th>9</th>\n",
       "      <th>10</th>\n",
       "      <th>...</th>\n",
       "      <th>119</th>\n",
       "      <th>120</th>\n",
       "      <th>121</th>\n",
       "      <th>122</th>\n",
       "      <th>123</th>\n",
       "      <th>124</th>\n",
       "      <th>125</th>\n",
       "      <th>126</th>\n",
       "      <th>127</th>\n",
       "      <th>128</th>\n",
       "    </tr>\n",
       "  </thead>\n",
       "  <tbody>\n",
       "    <tr>\n",
       "      <th>0</th>\n",
       "      <td>0:3</td>\n",
       "      <td>1:2</td>\n",
       "      <td>2:2</td>\n",
       "      <td>3:2</td>\n",
       "      <td>4:1</td>\n",
       "      <td>5:2</td>\n",
       "      <td>6:2</td>\n",
       "      <td>7:3</td>\n",
       "      <td>8:1</td>\n",
       "      <td>9:2</td>\n",
       "      <td>...</td>\n",
       "      <td>118:2</td>\n",
       "      <td>119:2</td>\n",
       "      <td>120:2</td>\n",
       "      <td>121:2</td>\n",
       "      <td>122:2</td>\n",
       "      <td>123:2</td>\n",
       "      <td>124:1</td>\n",
       "      <td>125:2</td>\n",
       "      <td>126:2</td>\n",
       "      <td>127:2</td>\n",
       "    </tr>\n",
       "    <tr>\n",
       "      <th>1</th>\n",
       "      <td>0:2</td>\n",
       "      <td>1:3</td>\n",
       "      <td>2:2</td>\n",
       "      <td>3:1</td>\n",
       "      <td>4:2</td>\n",
       "      <td>5:3</td>\n",
       "      <td>6:2</td>\n",
       "      <td>7:3</td>\n",
       "      <td>8:2</td>\n",
       "      <td>9:2</td>\n",
       "      <td>...</td>\n",
       "      <td>118:1</td>\n",
       "      <td>119:1</td>\n",
       "      <td>120:2</td>\n",
       "      <td>121:3</td>\n",
       "      <td>122:1</td>\n",
       "      <td>123:3</td>\n",
       "      <td>124:2</td>\n",
       "      <td>125:3</td>\n",
       "      <td>126:3</td>\n",
       "      <td>127:1</td>\n",
       "    </tr>\n",
       "    <tr>\n",
       "      <th>2</th>\n",
       "      <td>0:2</td>\n",
       "      <td>1:2</td>\n",
       "      <td>2:2</td>\n",
       "      <td>3:1</td>\n",
       "      <td>4:1</td>\n",
       "      <td>5:1</td>\n",
       "      <td>6:2</td>\n",
       "      <td>7:3</td>\n",
       "      <td>8:1</td>\n",
       "      <td>9:1</td>\n",
       "      <td>...</td>\n",
       "      <td>118:3</td>\n",
       "      <td>119:2</td>\n",
       "      <td>120:2</td>\n",
       "      <td>121:2</td>\n",
       "      <td>122:2</td>\n",
       "      <td>123:2</td>\n",
       "      <td>124:2</td>\n",
       "      <td>125:2</td>\n",
       "      <td>126:2</td>\n",
       "      <td>127:2</td>\n",
       "    </tr>\n",
       "    <tr>\n",
       "      <th>3</th>\n",
       "      <td>0:1</td>\n",
       "      <td>1:2</td>\n",
       "      <td>2:2</td>\n",
       "      <td>3:2</td>\n",
       "      <td>4:2</td>\n",
       "      <td>5:3</td>\n",
       "      <td>6:2</td>\n",
       "      <td>7:2</td>\n",
       "      <td>8:2</td>\n",
       "      <td>9:3</td>\n",
       "      <td>...</td>\n",
       "      <td>118:1</td>\n",
       "      <td>119:1</td>\n",
       "      <td>120:2</td>\n",
       "      <td>121:2</td>\n",
       "      <td>122:2</td>\n",
       "      <td>123:2</td>\n",
       "      <td>124:2</td>\n",
       "      <td>125:3</td>\n",
       "      <td>126:3</td>\n",
       "      <td>127:3</td>\n",
       "    </tr>\n",
       "    <tr>\n",
       "      <th>4</th>\n",
       "      <td>0:2</td>\n",
       "      <td>1:2</td>\n",
       "      <td>2:2</td>\n",
       "      <td>3:2</td>\n",
       "      <td>4:1</td>\n",
       "      <td>5:2</td>\n",
       "      <td>6:2</td>\n",
       "      <td>7:2</td>\n",
       "      <td>8:1</td>\n",
       "      <td>9:2</td>\n",
       "      <td>...</td>\n",
       "      <td>118:2</td>\n",
       "      <td>119:2</td>\n",
       "      <td>120:3</td>\n",
       "      <td>121:2</td>\n",
       "      <td>122:1</td>\n",
       "      <td>123:1</td>\n",
       "      <td>124:1</td>\n",
       "      <td>125:2</td>\n",
       "      <td>126:2</td>\n",
       "      <td>127:1</td>\n",
       "    </tr>\n",
       "  </tbody>\n",
       "</table>\n",
       "<p>5 rows × 128 columns</p>\n",
       "</div>"
      ],
      "text/plain": [
       "   1    2    3    4    5    6    7    8    9    10   ...      119    120  \\\n",
       "0  0:3  1:2  2:2  3:2  4:1  5:2  6:2  7:3  8:1  9:2  ...    118:2  119:2   \n",
       "1  0:2  1:3  2:2  3:1  4:2  5:3  6:2  7:3  8:2  9:2  ...    118:1  119:1   \n",
       "2  0:2  1:2  2:2  3:1  4:1  5:1  6:2  7:3  8:1  9:1  ...    118:3  119:2   \n",
       "3  0:1  1:2  2:2  3:2  4:2  5:3  6:2  7:2  8:2  9:3  ...    118:1  119:1   \n",
       "4  0:2  1:2  2:2  3:2  4:1  5:2  6:2  7:2  8:1  9:2  ...    118:2  119:2   \n",
       "\n",
       "     121    122    123    124    125    126    127    128  \n",
       "0  120:2  121:2  122:2  123:2  124:1  125:2  126:2  127:2  \n",
       "1  120:2  121:3  122:1  123:3  124:2  125:3  126:3  127:1  \n",
       "2  120:2  121:2  122:2  123:2  124:2  125:2  126:2  127:2  \n",
       "3  120:2  121:2  122:2  123:2  124:2  125:3  126:3  127:3  \n",
       "4  120:3  121:2  122:1  123:1  124:1  125:2  126:2  127:1  \n",
       "\n",
       "[5 rows x 128 columns]"
      ]
     },
     "execution_count": 52,
     "metadata": {},
     "output_type": "execute_result"
    }
   ],
   "source": [
    "# remove labels before processing\n",
    "df_train = train_untouched.iloc[:, 1:]\n",
    "df_train.head()"
   ]
  },
  {
   "cell_type": "code",
   "execution_count": 75,
   "metadata": {
    "collapsed": false
   },
   "outputs": [],
   "source": [
    "# https://stackoverflow.com/questions/25900332/find-last-word-in-a-string-within-a-list-pandas-python-3\n",
    "\n",
    "# funcion to extract the value out of every cell\n",
    "def extract_value(col):\n",
    "    return col.str.split(':').str[-1] "
   ]
  },
  {
   "cell_type": "code",
   "execution_count": 76,
   "metadata": {
    "collapsed": false
   },
   "outputs": [],
   "source": [
    "# apply function to extract values, and attach label to the end\n",
    "train_values = df_train.apply(extract_value, axis=0)\n",
    "train_values['label'] = train_untouched.iloc[:,0]\n",
    "# convert everything to integer\n",
    "train_values = train_values.apply(pd.to_numeric)\n",
    "\n",
    "# convert to numpy matrix\n",
    "train = train_values.as_matrix() # last column "
   ]
  },
  {
   "cell_type": "code",
   "execution_count": 78,
   "metadata": {
    "collapsed": false
   },
   "outputs": [
    {
     "name": "stdout",
     "output_type": "stream",
     "text": [
      "(3000, 129)\n"
     ]
    },
    {
     "data": {
      "text/plain": [
       "array([[3, 2, 2, ..., 2, 2, 4],\n",
       "       [2, 3, 2, ..., 3, 1, 4],\n",
       "       [2, 2, 2, ..., 2, 2, 2],\n",
       "       ...,\n",
       "       [2, 2, 2, ..., 2, 1, 3],\n",
       "       [2, 3, 2, ..., 2, 2, 4],\n",
       "       [1, 2, 2, ..., 2, 1, 4]])"
      ]
     },
     "execution_count": 78,
     "metadata": {},
     "output_type": "execute_result"
    }
   ],
   "source": [
    "print(train.shape)\n",
    "train"
   ]
  },
  {
   "cell_type": "markdown",
   "metadata": {},
   "source": [
    "## Same Process for Test Data"
   ]
  },
  {
   "cell_type": "code",
   "execution_count": 73,
   "metadata": {
    "collapsed": false
   },
   "outputs": [
    {
     "data": {
      "text/html": [
       "<div>\n",
       "<style scoped>\n",
       "    .dataframe tbody tr th:only-of-type {\n",
       "        vertical-align: middle;\n",
       "    }\n",
       "\n",
       "    .dataframe tbody tr th {\n",
       "        vertical-align: top;\n",
       "    }\n",
       "\n",
       "    .dataframe thead th {\n",
       "        text-align: right;\n",
       "    }\n",
       "</style>\n",
       "<table border=\"1\" class=\"dataframe\">\n",
       "  <thead>\n",
       "    <tr style=\"text-align: right;\">\n",
       "      <th></th>\n",
       "      <th>0</th>\n",
       "      <th>1</th>\n",
       "      <th>2</th>\n",
       "      <th>3</th>\n",
       "      <th>4</th>\n",
       "      <th>5</th>\n",
       "      <th>6</th>\n",
       "      <th>7</th>\n",
       "      <th>8</th>\n",
       "      <th>9</th>\n",
       "      <th>...</th>\n",
       "      <th>118</th>\n",
       "      <th>119</th>\n",
       "      <th>120</th>\n",
       "      <th>121</th>\n",
       "      <th>122</th>\n",
       "      <th>123</th>\n",
       "      <th>124</th>\n",
       "      <th>125</th>\n",
       "      <th>126</th>\n",
       "      <th>127</th>\n",
       "    </tr>\n",
       "  </thead>\n",
       "  <tbody>\n",
       "    <tr>\n",
       "      <th>0</th>\n",
       "      <td>0:3</td>\n",
       "      <td>1:1</td>\n",
       "      <td>2:1</td>\n",
       "      <td>3:2</td>\n",
       "      <td>4:2</td>\n",
       "      <td>5:1</td>\n",
       "      <td>6:2</td>\n",
       "      <td>7:2</td>\n",
       "      <td>8:2</td>\n",
       "      <td>9:2</td>\n",
       "      <td>...</td>\n",
       "      <td>118:2</td>\n",
       "      <td>119:3</td>\n",
       "      <td>120:1</td>\n",
       "      <td>121:2</td>\n",
       "      <td>122:2</td>\n",
       "      <td>123:2</td>\n",
       "      <td>124:2</td>\n",
       "      <td>125:2</td>\n",
       "      <td>126:3</td>\n",
       "      <td>127:2</td>\n",
       "    </tr>\n",
       "    <tr>\n",
       "      <th>1</th>\n",
       "      <td>0:2</td>\n",
       "      <td>1:2</td>\n",
       "      <td>2:2</td>\n",
       "      <td>3:1</td>\n",
       "      <td>4:2</td>\n",
       "      <td>5:2</td>\n",
       "      <td>6:1</td>\n",
       "      <td>7:2</td>\n",
       "      <td>8:2</td>\n",
       "      <td>9:2</td>\n",
       "      <td>...</td>\n",
       "      <td>118:3</td>\n",
       "      <td>119:2</td>\n",
       "      <td>120:2</td>\n",
       "      <td>121:2</td>\n",
       "      <td>122:3</td>\n",
       "      <td>123:3</td>\n",
       "      <td>124:3</td>\n",
       "      <td>125:2</td>\n",
       "      <td>126:2</td>\n",
       "      <td>127:3</td>\n",
       "    </tr>\n",
       "    <tr>\n",
       "      <th>2</th>\n",
       "      <td>0:2</td>\n",
       "      <td>1:2</td>\n",
       "      <td>2:2</td>\n",
       "      <td>3:2</td>\n",
       "      <td>4:2</td>\n",
       "      <td>5:2</td>\n",
       "      <td>6:3</td>\n",
       "      <td>7:3</td>\n",
       "      <td>8:2</td>\n",
       "      <td>9:1</td>\n",
       "      <td>...</td>\n",
       "      <td>118:3</td>\n",
       "      <td>119:3</td>\n",
       "      <td>120:2</td>\n",
       "      <td>121:2</td>\n",
       "      <td>122:2</td>\n",
       "      <td>123:2</td>\n",
       "      <td>124:2</td>\n",
       "      <td>125:1</td>\n",
       "      <td>126:2</td>\n",
       "      <td>127:1</td>\n",
       "    </tr>\n",
       "    <tr>\n",
       "      <th>3</th>\n",
       "      <td>0:2</td>\n",
       "      <td>1:1</td>\n",
       "      <td>2:2</td>\n",
       "      <td>3:2</td>\n",
       "      <td>4:2</td>\n",
       "      <td>5:2</td>\n",
       "      <td>6:2</td>\n",
       "      <td>7:2</td>\n",
       "      <td>8:2</td>\n",
       "      <td>9:2</td>\n",
       "      <td>...</td>\n",
       "      <td>118:2</td>\n",
       "      <td>119:2</td>\n",
       "      <td>120:2</td>\n",
       "      <td>121:1</td>\n",
       "      <td>122:3</td>\n",
       "      <td>123:2</td>\n",
       "      <td>124:1</td>\n",
       "      <td>125:2</td>\n",
       "      <td>126:3</td>\n",
       "      <td>127:2</td>\n",
       "    </tr>\n",
       "    <tr>\n",
       "      <th>4</th>\n",
       "      <td>0:1</td>\n",
       "      <td>1:2</td>\n",
       "      <td>2:2</td>\n",
       "      <td>3:1</td>\n",
       "      <td>4:2</td>\n",
       "      <td>5:2</td>\n",
       "      <td>6:2</td>\n",
       "      <td>7:2</td>\n",
       "      <td>8:3</td>\n",
       "      <td>9:1</td>\n",
       "      <td>...</td>\n",
       "      <td>118:1</td>\n",
       "      <td>119:1</td>\n",
       "      <td>120:1</td>\n",
       "      <td>121:2</td>\n",
       "      <td>122:2</td>\n",
       "      <td>123:2</td>\n",
       "      <td>124:2</td>\n",
       "      <td>125:1</td>\n",
       "      <td>126:2</td>\n",
       "      <td>127:2</td>\n",
       "    </tr>\n",
       "  </tbody>\n",
       "</table>\n",
       "<p>5 rows × 128 columns</p>\n",
       "</div>"
      ],
      "text/plain": [
       "   0    1    2    3    4    5    6    7    8    9    ...      118    119  \\\n",
       "0  0:3  1:1  2:1  3:2  4:2  5:1  6:2  7:2  8:2  9:2  ...    118:2  119:3   \n",
       "1  0:2  1:2  2:2  3:1  4:2  5:2  6:1  7:2  8:2  9:2  ...    118:3  119:2   \n",
       "2  0:2  1:2  2:2  3:2  4:2  5:2  6:3  7:3  8:2  9:1  ...    118:3  119:3   \n",
       "3  0:2  1:1  2:2  3:2  4:2  5:2  6:2  7:2  8:2  9:2  ...    118:2  119:2   \n",
       "4  0:1  1:2  2:2  3:1  4:2  5:2  6:2  7:2  8:3  9:1  ...    118:1  119:1   \n",
       "\n",
       "     120    121    122    123    124    125    126    127  \n",
       "0  120:1  121:2  122:2  123:2  124:2  125:2  126:3  127:2  \n",
       "1  120:2  121:2  122:3  123:3  124:3  125:2  126:2  127:3  \n",
       "2  120:2  121:2  122:2  123:2  124:2  125:1  126:2  127:1  \n",
       "3  120:2  121:1  122:3  123:2  124:1  125:2  126:3  127:2  \n",
       "4  120:1  121:2  122:2  123:2  124:2  125:1  126:2  127:2  \n",
       "\n",
       "[5 rows x 128 columns]"
      ]
     },
     "execution_count": 73,
     "metadata": {},
     "output_type": "execute_result"
    }
   ],
   "source": [
    "test_untouched = pd.read_csv('./testing.txt', sep=\" \", header=None)\n",
    "test_untouched.head()"
   ]
  },
  {
   "cell_type": "code",
   "execution_count": 79,
   "metadata": {
    "collapsed": true
   },
   "outputs": [],
   "source": [
    "# apply function to extract values, and attach label to the end\n",
    "test_values = test_untouched.apply(extract_value, axis=0)\n",
    "\n",
    "# convert everything to integer\n",
    "test_values = test_values.apply(pd.to_numeric)\n",
    "\n",
    "# convert to numpy matrix\n",
    "test = test_values.as_matrix() # last column "
   ]
  },
  {
   "cell_type": "code",
   "execution_count": 80,
   "metadata": {
    "collapsed": false
   },
   "outputs": [
    {
     "name": "stdout",
     "output_type": "stream",
     "text": [
      "(1000, 128)\n"
     ]
    },
    {
     "data": {
      "text/plain": [
       "array([[3, 1, 1, ..., 2, 3, 2],\n",
       "       [2, 2, 2, ..., 2, 2, 3],\n",
       "       [2, 2, 2, ..., 1, 2, 1],\n",
       "       ...,\n",
       "       [2, 1, 1, ..., 2, 2, 2],\n",
       "       [2, 3, 3, ..., 2, 2, 2],\n",
       "       [2, 1, 2, ..., 1, 2, 2]])"
      ]
     },
     "execution_count": 80,
     "metadata": {},
     "output_type": "execute_result"
    }
   ],
   "source": [
    "print(test.shape)\n",
    "test"
   ]
  },
  {
   "cell_type": "code",
   "execution_count": null,
   "metadata": {
    "collapsed": true
   },
   "outputs": [],
   "source": []
  },
  {
   "cell_type": "code",
   "execution_count": null,
   "metadata": {
    "collapsed": true
   },
   "outputs": [],
   "source": []
  },
  {
   "cell_type": "markdown",
   "metadata": {},
   "source": [
    "## Fit Model & Make Predictions"
   ]
  },
  {
   "cell_type": "code",
   "execution_count": 91,
   "metadata": {
    "collapsed": false
   },
   "outputs": [],
   "source": [
    "# http://scikit-learn.org/stable/modules/tree.html\n",
    "from sklearn import tree"
   ]
  },
  {
   "cell_type": "code",
   "execution_count": 92,
   "metadata": {
    "collapsed": true
   },
   "outputs": [],
   "source": [
    "# assign train and test data\n",
    "X_train = train[:, 0:128]\n",
    "y_train = train[:, 128]\n",
    "X_test = test"
   ]
  },
  {
   "cell_type": "code",
   "execution_count": 93,
   "metadata": {
    "collapsed": true
   },
   "outputs": [],
   "source": [
    "# fit Decision Tree Classifier\n",
    "clf = tree.DecisionTreeClassifier() # by default \"gini\" is the criterion\n",
    "clf = clf.fit(X_train, y_train)"
   ]
  },
  {
   "cell_type": "code",
   "execution_count": 94,
   "metadata": {
    "collapsed": false
   },
   "outputs": [],
   "source": [
    "# make predictions\n",
    "preds = clf.predict(X_test)"
   ]
  },
  {
   "cell_type": "code",
   "execution_count": 101,
   "metadata": {
    "collapsed": false
   },
   "outputs": [
    {
     "name": "stdout",
     "output_type": "stream",
     "text": [
      "<class 'numpy.ndarray'>\n",
      "<class 'numpy.int64'>\n"
     ]
    },
    {
     "data": {
      "text/plain": [
       "array([1, 4, 3, 4, 3, 3, 2, 4, 1, 2, 4, 3, 4, 3, 3, 4, 1, 2, 3, 4, 2, 3,\n",
       "       4, 2, 3, 4, 2, 2, 1, 1, 2, 3, 1, 4, 2, 3, 4, 3, 4, 2, 3, 1, 4, 4,\n",
       "       1, 2, 4, 1, 4, 2, 2, 3, 1, 3, 4, 2, 4, 1, 2, 4, 2, 4, 1, 4, 3, 4,\n",
       "       2, 2, 3, 1, 4, 2, 2, 4, 1, 4, 1, 4, 1, 4, 2, 1, 3, 1, 4, 2, 4, 4,\n",
       "       2, 3, 2, 3, 3, 3, 1, 1, 2, 1, 1, 1, 3, 1, 1, 1, 2, 4, 2, 2, 4, 4,\n",
       "       1, 2, 2, 3, 1, 4, 2, 4, 1, 2, 3, 1, 2, 1, 2, 2, 1, 1, 2, 4, 2, 2,\n",
       "       1, 3, 3, 4, 2, 3, 3, 4, 2, 1, 1, 4, 2, 3, 1, 2, 4, 4, 1, 3, 2, 2,\n",
       "       4, 1, 2, 3, 2, 1, 4, 3, 2, 3, 3, 1, 2, 4, 4, 1, 1, 4, 2, 1, 2, 1,\n",
       "       2, 2, 1, 1, 2, 4, 4, 3, 2, 2, 2, 1, 3, 4, 3, 2, 4, 4, 4, 2, 2, 2,\n",
       "       2, 1, 3, 2, 2, 3, 3, 1, 4, 1, 3, 2, 4, 4, 1, 3, 3, 3, 3, 3, 2, 1,\n",
       "       1, 2, 1, 4, 2, 4, 1, 3, 4, 1, 1, 3, 4, 1, 2, 1, 1, 1, 1, 4, 3, 3,\n",
       "       1, 4, 3, 2, 1, 3, 2, 4, 3, 3, 4, 3, 3, 4, 3, 4, 3, 2, 1, 1, 4, 1,\n",
       "       1, 1, 3, 1, 1, 4, 2, 3, 3, 4, 1, 1, 1, 2, 3, 2, 3, 1, 3, 1, 4, 1,\n",
       "       3, 3, 2, 2, 3, 3, 1, 1, 4, 4, 3, 4, 4, 1, 1, 3, 4, 3, 4, 1, 4, 3,\n",
       "       1, 4, 1, 2, 4, 3, 2, 4, 2, 2, 2, 4, 1, 4, 4, 4, 2, 1, 2, 4, 4, 1,\n",
       "       2, 2, 3, 3, 3, 2, 4, 3, 1, 4, 3, 2, 4, 3, 3, 4, 2, 2, 4, 3, 4, 4,\n",
       "       4, 1, 3, 3, 4, 1, 3, 4, 3, 1, 2, 1, 1, 1, 4, 2, 1, 3, 4, 2, 4, 3,\n",
       "       4, 4, 4, 1, 3, 4, 3, 1, 1, 2, 2, 2, 2, 2, 4, 4, 2, 1, 4, 2, 2, 4,\n",
       "       2, 3, 3, 2, 3, 4, 4, 2, 3, 2, 1, 1, 3, 3, 3, 3, 2, 1, 2, 1, 1, 1,\n",
       "       3, 4, 3, 4, 4, 3, 2, 4, 3, 2, 1, 4, 4, 4, 2, 3, 2, 4, 1, 2, 1, 1,\n",
       "       3, 3, 3, 4, 2, 4, 2, 1, 4, 1, 2, 2, 1, 3, 2, 3, 1, 1, 3, 1, 3, 4,\n",
       "       2, 1, 3, 2, 4, 3, 3, 4, 1, 4, 3, 2, 1, 1, 3, 2, 4, 3, 3, 4, 2, 1,\n",
       "       3, 1, 3, 3, 3, 4, 1, 3, 2, 1, 1, 4, 3, 3, 1, 3, 4, 3, 4, 3, 1, 3,\n",
       "       3, 1, 2, 3, 2, 4, 4, 3, 3, 1, 2, 4, 3, 1, 3, 3, 4, 4, 2, 3, 4, 1,\n",
       "       3, 3, 4, 2, 3, 2, 1, 1, 2, 4, 3, 1, 2, 2, 3, 3, 2, 1, 3, 4, 4, 1,\n",
       "       1, 2, 4, 1, 4, 4, 1, 3, 4, 4, 1, 4, 2, 2, 4, 4, 1, 3, 2, 4, 2, 1,\n",
       "       2, 2, 4, 2, 4, 2, 1, 3, 3, 4, 4, 4, 2, 1, 3, 1, 1, 4, 1, 3, 3, 4,\n",
       "       3, 2, 1, 1, 1, 3, 4, 2, 1, 2, 1, 3, 2, 1, 1, 1, 3, 3, 2, 4, 2, 4,\n",
       "       3, 2, 1, 2, 4, 3, 2, 3, 4, 1, 4, 4, 4, 2, 4, 3, 2, 2, 1, 1, 1, 1,\n",
       "       4, 1, 4, 3, 1, 2, 2, 1, 1, 2, 3, 4, 1, 1, 3, 2, 1, 2, 1, 1, 1, 1,\n",
       "       1, 2, 1, 1, 1, 4, 4, 4, 1, 2, 4, 4, 1, 3, 1, 4, 4, 4, 3, 2, 4, 2,\n",
       "       2, 2, 2, 1, 3, 4, 4, 4, 2, 2, 1, 4, 1, 3, 2, 2, 4, 3, 2, 1, 3, 1,\n",
       "       2, 1, 3, 1, 3, 3, 2, 1, 1, 1, 1, 1, 4, 1, 2, 2, 3, 3, 3, 2, 4, 4,\n",
       "       1, 2, 3, 3, 4, 2, 3, 4, 1, 1, 2, 3, 4, 4, 2, 4, 1, 4, 4, 2, 1, 1,\n",
       "       2, 4, 1, 2, 1, 4, 3, 3, 2, 3, 4, 2, 4, 4, 4, 4, 3, 4, 1, 2, 4, 1,\n",
       "       1, 3, 3, 3, 1, 3, 3, 4, 1, 1, 4, 1, 1, 1, 4, 1, 1, 3, 2, 1, 4, 1,\n",
       "       4, 4, 1, 3, 3, 1, 2, 1, 1, 3, 2, 2, 2, 1, 2, 4, 2, 4, 3, 3, 4, 1,\n",
       "       3, 2, 1, 1, 1, 1, 1, 4, 4, 2, 4, 1, 2, 3, 4, 1, 2, 3, 1, 2, 3, 3,\n",
       "       3, 4, 1, 2, 1, 1, 1, 2, 4, 3, 4, 3, 3, 2, 4, 1, 1, 2, 2, 1, 2, 2,\n",
       "       1, 4, 3, 4, 1, 1, 1, 2, 3, 2, 1, 3, 3, 4, 2, 2, 1, 2, 2, 2, 3, 2,\n",
       "       2, 3, 1, 4, 4, 1, 2, 3, 1, 3, 4, 1, 2, 2, 4, 4, 4, 2, 3, 3, 3, 1,\n",
       "       4, 4, 4, 4, 2, 2, 4, 1, 3, 1, 1, 3, 1, 3, 4, 1, 1, 4, 2, 3, 1, 3,\n",
       "       4, 1, 1, 2, 1, 2, 2, 1, 4, 4, 4, 3, 4, 3, 3, 4, 1, 2, 1, 3, 3, 3,\n",
       "       1, 3, 3, 1, 1, 2, 2, 4, 4, 3, 1, 2, 4, 3, 3, 1, 4, 1, 1, 2, 4, 4,\n",
       "       3, 3, 1, 2, 4, 2, 3, 3, 3, 3, 1, 3, 4, 2, 3, 4, 1, 3, 3, 2, 1, 1,\n",
       "       4, 2, 2, 4, 3, 4, 1, 2, 1, 4])"
      ]
     },
     "execution_count": 101,
     "metadata": {},
     "output_type": "execute_result"
    }
   ],
   "source": [
    "print(type(preds))\n",
    "print(type(preds[1]))\n",
    "preds"
   ]
  },
  {
   "cell_type": "code",
   "execution_count": 102,
   "metadata": {
    "collapsed": false
   },
   "outputs": [],
   "source": [
    "# https://docs.scipy.org/doc/numpy/reference/generated/numpy.savetxt.html\n",
    "np.savetxt(\"./result.txt\", X=preds, newline='\\n', fmt='%d')"
   ]
  },
  {
   "cell_type": "code",
   "execution_count": null,
   "metadata": {
    "collapsed": true
   },
   "outputs": [],
   "source": []
  },
  {
   "cell_type": "markdown",
   "metadata": {},
   "source": [
    "## Try RandomForestClassifier for better results?"
   ]
  },
  {
   "cell_type": "code",
   "execution_count": 103,
   "metadata": {
    "collapsed": true
   },
   "outputs": [],
   "source": [
    "from sklearn.ensemble import RandomForestClassifier\n",
    "\n",
    "clf = RandomForestClassifier(n_estimators=50)\n",
    "clf = clf.fit(X_train, y_train)\n",
    "\n",
    "# make predictions\n",
    "preds = clf.predict(X_test)\n",
    "\n",
    "# https://docs.scipy.org/doc/numpy/reference/generated/numpy.savetxt.html\n",
    "np.savetxt(\"./result.txt\", X=preds, newline='\\n', fmt='%d')"
   ]
  },
  {
   "cell_type": "code",
   "execution_count": null,
   "metadata": {
    "collapsed": true
   },
   "outputs": [],
   "source": []
  },
  {
   "cell_type": "code",
   "execution_count": null,
   "metadata": {
    "collapsed": true
   },
   "outputs": [],
   "source": []
  },
  {
   "cell_type": "code",
   "execution_count": null,
   "metadata": {
    "collapsed": true
   },
   "outputs": [],
   "source": []
  },
  {
   "cell_type": "code",
   "execution_count": null,
   "metadata": {
    "collapsed": true
   },
   "outputs": [],
   "source": []
  },
  {
   "cell_type": "code",
   "execution_count": null,
   "metadata": {
    "collapsed": true
   },
   "outputs": [],
   "source": []
  },
  {
   "cell_type": "code",
   "execution_count": null,
   "metadata": {
    "collapsed": true
   },
   "outputs": [],
   "source": []
  }
 ],
 "metadata": {
  "anaconda-cloud": {},
  "kernelspec": {
   "display_name": "Python [conda env:cs498]",
   "language": "python",
   "name": "conda-env-cs498-py"
  },
  "language_info": {
   "codemirror_mode": {
    "name": "ipython",
    "version": 3
   },
   "file_extension": ".py",
   "mimetype": "text/x-python",
   "name": "python",
   "nbconvert_exporter": "python",
   "pygments_lexer": "ipython3",
   "version": "3.6.4"
  }
 },
 "nbformat": 4,
 "nbformat_minor": 1
}
