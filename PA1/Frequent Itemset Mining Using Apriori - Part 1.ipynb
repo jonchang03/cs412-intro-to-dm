{
 "cells": [
  {
   "cell_type": "markdown",
   "metadata": {},
   "source": [
    "## Input\n",
    "The provided input file (\"categories.txt\") consists of the category lists of 77,185 places in the US. Each line corresponds to the category list of one place, where the list consists of a number of category instances (e.g., hotels, restaurants, etc.) that are separated by semicolons.\n",
    "\n",
    "An example line is provided below:\n",
    "\n",
    "Local Services;IT Services & Computer Repair\n",
    "\n",
    "In the example above, the corresponding place has two category instances: \"Local Services\" and \"IT Services & Computer Repair\".\n",
    "\n",
    "## Output\n",
    "You need to implement the Apriori algorithm and use it to mine category sets that are frequent in the input data. When implementing the Apriori algorithm, you may use any programming language you like. We only need your result pattern file, not your source code file.\n",
    "\n",
    "After implementing the Apriori algorithm, please set the relative minimum support to 0.01 and run it on the 77,185 category lists. In other words, you need to extract all the category sets that have an absolute support larger than 771."
   ]
  },
  {
   "cell_type": "markdown",
   "metadata": {},
   "source": [
    "### Psuedocode for Apriori\n",
    "Step 1. find frequent 1-itemsets  \n",
    "Steps 2-10. L_k-1 is used to generate candidates C_k to find L_k for K >=2  \n",
    "Step 3. generates the candidates and then uses Apriori properety to eliminate those having a subset that is not frequent  \n",
    "Step 4. scan the database for counts  \n",
    "Step 5. For each transaction, a subset function used to find all subsets of the transactions that are candidates  \n",
    "Steps 6-7. Count for each of these candidates is acculated  \n",
    "Steps 9-11. All candidates satisfying minimum support form the frequent itemsets, L  \n",
    "\n",
    "\n"
   ]
  },
  {
   "cell_type": "markdown",
   "metadata": {},
   "source": [
    "### Read in data"
   ]
  },
  {
   "cell_type": "code",
   "execution_count": 1,
   "metadata": {
    "collapsed": false
   },
   "outputs": [],
   "source": [
    "# read \"categories.txt\" into list of lists\n",
    "# https://stackoverflow.com/questions/18448847/import-txt-file-and-having-each-line-as-a-list\n",
    "transactions = []\n",
    "with open('categories.txt', 'rt') as f:\n",
    "    for line in f:\n",
    "        transactions.append(line.strip().split(';'))\n",
    "# print(type(transactions))\n",
    "# transactions "
   ]
  },
  {
   "cell_type": "code",
   "execution_count": 2,
   "metadata": {
    "collapsed": false
   },
   "outputs": [],
   "source": [
    "# Step 1. find frequent 1-itemsets\n",
    "from collections import Counter\n",
    "\n",
    "# flatten list - https://stackoverflow.com/questions/3496518/python-using-a-dictionary-to-count-the-items-in-a-list\n",
    "D = [item for sublist in transactions for item in sublist] \n",
    "\n",
    "# use Counter - https://pymotw.com/2/collections/counter.html\n",
    "L = Counter(D)\n",
    "\n",
    "# get rid of items whose objects are less than the minimum support\n",
    "# https://stackoverflow.com/questions/15861739/removing-objects-whose-counts-are-less-than-threshold-in-counter\n",
    "min_sup = 771\n",
    "for i in list(L):\n",
    "    if L[i] < min_sup:\n",
    "        del L[i]"
   ]
  },
  {
   "cell_type": "code",
   "execution_count": null,
   "metadata": {
    "collapsed": true
   },
   "outputs": [],
   "source": []
  },
  {
   "cell_type": "code",
   "execution_count": null,
   "metadata": {
    "collapsed": true
   },
   "outputs": [],
   "source": []
  },
  {
   "cell_type": "code",
   "execution_count": null,
   "metadata": {
    "collapsed": true
   },
   "outputs": [],
   "source": []
  },
  {
   "cell_type": "markdown",
   "metadata": {},
   "source": [
    "# Part 1\n",
    "\n",
    "Please output all the length-1 frequent categories with their absolute supports into a text file named \"patterns.txt\". Every line corresponds to exactly one frequent category and should be in the following format:\n",
    "\n",
    "support:category\n",
    "\n",
    "For example, suppose a category (Fast Food) has an absolute support 3000, then the line corresponding to this frequent category set in \"patterns.txt\" should be:\n",
    "\n",
    "3000:Fast Food"
   ]
  },
  {
   "cell_type": "code",
   "execution_count": 3,
   "metadata": {
    "collapsed": false
   },
   "outputs": [],
   "source": [
    "# write results to  it to \"patterns.txt\"\n",
    "with open('p1.txt', 'wt') as f:\n",
    "    for k, v in L.items():\n",
    "        f.write(str(v) + ':' + str(k) + '\\n')"
   ]
  },
  {
   "cell_type": "code",
   "execution_count": null,
   "metadata": {
    "collapsed": true
   },
   "outputs": [],
   "source": []
  },
  {
   "cell_type": "code",
   "execution_count": null,
   "metadata": {
    "collapsed": true
   },
   "outputs": [],
   "source": []
  },
  {
   "cell_type": "code",
   "execution_count": null,
   "metadata": {
    "collapsed": true
   },
   "outputs": [],
   "source": []
  },
  {
   "cell_type": "markdown",
   "metadata": {},
   "source": [
    "# Part 2\n",
    "\n",
    "Please write all the frequent category sets along with their absolute supports into a text file named \"patterns.txt\". Every line corresponds to exactly one frequent category set and should be in the following format:\n",
    "\n",
    "support:category_1;category_2;category_3;...\n",
    "\n",
    "For example, suppose a category set (Fast Food; Restaurants) has an absolute support 2851, then the line corresponding to this frequent category set in \"patterns.txt\" should be:\n",
    "\n",
    "2851:Fast Food;Restaurants\n",
    "\n"
   ]
  },
  {
   "cell_type": "code",
   "execution_count": null,
   "metadata": {
    "collapsed": true
   },
   "outputs": [],
   "source": []
  },
  {
   "cell_type": "code",
   "execution_count": null,
   "metadata": {
    "collapsed": true
   },
   "outputs": [],
   "source": []
  },
  {
   "cell_type": "code",
   "execution_count": null,
   "metadata": {
    "collapsed": true
   },
   "outputs": [],
   "source": []
  },
  {
   "cell_type": "code",
   "execution_count": null,
   "metadata": {
    "collapsed": true
   },
   "outputs": [],
   "source": []
  },
  {
   "cell_type": "code",
   "execution_count": null,
   "metadata": {
    "collapsed": true
   },
   "outputs": [],
   "source": []
  }
 ],
 "metadata": {
  "anaconda-cloud": {},
  "kernelspec": {
   "display_name": "Python [conda root]",
   "language": "python",
   "name": "conda-root-py"
  },
  "language_info": {
   "codemirror_mode": {
    "name": "ipython",
    "version": 3
   },
   "file_extension": ".py",
   "mimetype": "text/x-python",
   "name": "python",
   "nbconvert_exporter": "python",
   "pygments_lexer": "ipython3",
   "version": "3.5.2"
  }
 },
 "nbformat": 4,
 "nbformat_minor": 1
}
